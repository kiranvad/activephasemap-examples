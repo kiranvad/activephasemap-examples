{
 "cells": [
  {
   "cell_type": "code",
   "execution_count": 53,
   "metadata": {},
   "outputs": [],
   "source": [
    "from opentrons.simulate import get_protocol_api\n",
    "\n",
    "import json \n",
    "import pandas as pd \n",
    "from datetime import datetime\n",
    "from pytz import timezone \n",
    "Pacific = timezone('US/Pacific')\n",
    "from IPython.display import clear_output\n",
    "import time"
   ]
  },
  {
   "cell_type": "code",
   "execution_count": 54,
   "metadata": {},
   "outputs": [
    {
     "data": {
      "text/html": [
       "<div>\n",
       "<style scoped>\n",
       "    .dataframe tbody tr th:only-of-type {\n",
       "        vertical-align: middle;\n",
       "    }\n",
       "\n",
       "    .dataframe tbody tr th {\n",
       "        vertical-align: top;\n",
       "    }\n",
       "\n",
       "    .dataframe thead th {\n",
       "        text-align: right;\n",
       "    }\n",
       "</style>\n",
       "<table border=\"1\" class=\"dataframe\">\n",
       "  <thead>\n",
       "    <tr style=\"text-align: right;\">\n",
       "      <th></th>\n",
       "      <th>CTAB</th>\n",
       "      <th>Water</th>\n",
       "      <th>GCH</th>\n",
       "      <th>AA</th>\n",
       "      <th>SN</th>\n",
       "      <th>GS</th>\n",
       "    </tr>\n",
       "  </thead>\n",
       "  <tbody>\n",
       "    <tr>\n",
       "      <th>0</th>\n",
       "      <td>96</td>\n",
       "      <td>110</td>\n",
       "      <td>59</td>\n",
       "      <td>9</td>\n",
       "      <td>2</td>\n",
       "      <td>24</td>\n",
       "    </tr>\n",
       "    <tr>\n",
       "      <th>1</th>\n",
       "      <td>96</td>\n",
       "      <td>98</td>\n",
       "      <td>59</td>\n",
       "      <td>6</td>\n",
       "      <td>17</td>\n",
       "      <td>24</td>\n",
       "    </tr>\n",
       "    <tr>\n",
       "      <th>2</th>\n",
       "      <td>96</td>\n",
       "      <td>95</td>\n",
       "      <td>59</td>\n",
       "      <td>9</td>\n",
       "      <td>17</td>\n",
       "      <td>24</td>\n",
       "    </tr>\n",
       "    <tr>\n",
       "      <th>3</th>\n",
       "      <td>96</td>\n",
       "      <td>103</td>\n",
       "      <td>59</td>\n",
       "      <td>11</td>\n",
       "      <td>7</td>\n",
       "      <td>24</td>\n",
       "    </tr>\n",
       "    <tr>\n",
       "      <th>4</th>\n",
       "      <td>96</td>\n",
       "      <td>99</td>\n",
       "      <td>59</td>\n",
       "      <td>13</td>\n",
       "      <td>9</td>\n",
       "      <td>24</td>\n",
       "    </tr>\n",
       "    <tr>\n",
       "      <th>5</th>\n",
       "      <td>96</td>\n",
       "      <td>95</td>\n",
       "      <td>59</td>\n",
       "      <td>15</td>\n",
       "      <td>11</td>\n",
       "      <td>24</td>\n",
       "    </tr>\n",
       "    <tr>\n",
       "      <th>6</th>\n",
       "      <td>96</td>\n",
       "      <td>106</td>\n",
       "      <td>59</td>\n",
       "      <td>13</td>\n",
       "      <td>2</td>\n",
       "      <td>24</td>\n",
       "    </tr>\n",
       "    <tr>\n",
       "      <th>7</th>\n",
       "      <td>96</td>\n",
       "      <td>86</td>\n",
       "      <td>59</td>\n",
       "      <td>29</td>\n",
       "      <td>6</td>\n",
       "      <td>24</td>\n",
       "    </tr>\n",
       "    <tr>\n",
       "      <th>8</th>\n",
       "      <td>96</td>\n",
       "      <td>83</td>\n",
       "      <td>59</td>\n",
       "      <td>29</td>\n",
       "      <td>9</td>\n",
       "      <td>24</td>\n",
       "    </tr>\n",
       "    <tr>\n",
       "      <th>9</th>\n",
       "      <td>96</td>\n",
       "      <td>79</td>\n",
       "      <td>59</td>\n",
       "      <td>29</td>\n",
       "      <td>13</td>\n",
       "      <td>24</td>\n",
       "    </tr>\n",
       "  </tbody>\n",
       "</table>\n",
       "</div>"
      ],
      "text/plain": [
       "   CTAB  Water  GCH  AA  SN  GS\n",
       "0    96    110   59   9   2  24\n",
       "1    96     98   59   6  17  24\n",
       "2    96     95   59   9  17  24\n",
       "3    96    103   59  11   7  24\n",
       "4    96     99   59  13   9  24\n",
       "5    96     95   59  15  11  24\n",
       "6    96    106   59  13   2  24\n",
       "7    96     86   59  29   6  24\n",
       "8    96     83   59  29   9  24\n",
       "9    96     79   59  29  13  24"
      ]
     },
     "execution_count": 54,
     "metadata": {},
     "output_type": "execute_result"
    }
   ],
   "source": [
    "START_WELL = \"A1\"\n",
    "volume_df = pd.read_csv('./misc/repeat_96_well_plate.csv')\n",
    "volume_df"
   ]
  },
  {
   "cell_type": "code",
   "execution_count": 55,
   "metadata": {},
   "outputs": [
    {
     "name": "stderr",
     "output_type": "stream",
     "text": [
      "/Users/pozzolabadmin/.opentrons/robot_settings.json not found. Loading defaults\n",
      "Deck calibration not found.\n",
      "/Users/pozzolabadmin/.opentrons/deck_calibration.json not found. Loading defaults\n"
     ]
    }
   ],
   "source": [
    "protocol = get_protocol_api('2.18')\n",
    "CUSTOM_LABWARE_PATH = \"../opentrons_custom_labware/\"\n",
    "protocol.home()"
   ]
  },
  {
   "cell_type": "code",
   "execution_count": 56,
   "metadata": {},
   "outputs": [],
   "source": [
    "protocol.set_rail_lights(True)"
   ]
  },
  {
   "cell_type": "code",
   "execution_count": 57,
   "metadata": {},
   "outputs": [],
   "source": [
    "# load all the labware modules\n",
    "tiprack_300 = protocol.load_labware(\n",
    "    load_name=\"opentrons_96_tiprack_300ul\",\n",
    "    location=7)\n",
    "\n",
    "p300 = protocol.load_instrument(\n",
    "    instrument_name=\"p300_single_gen2\",\n",
    "    mount=\"right\",\n",
    "    tip_racks=[tiprack_300]\n",
    "    )\n",
    "\n",
    "tiprack_20 = protocol.load_labware(\n",
    "    load_name=\"opentrons_96_tiprack_20ul\",\n",
    "    location=4)\n",
    "\n",
    "p20 = protocol.load_instrument(\n",
    "    instrument_name=\"p20_single_gen2\",\n",
    "    mount=\"left\",\n",
    "    tip_racks=[tiprack_20]\n",
    "    )\n",
    "\n",
    "with open(CUSTOM_LABWARE_PATH+'20mlscintillation_12_wellplate_18000ul.json') as labware_file:\n",
    "    stocks_def = json.load(labware_file)\n",
    "    stocks = protocol.load_labware_from_definition(stocks_def, location=1)\n",
    "\n",
    "temp_module = protocol.load_module(module_name=\"temperature module gen2\", location=6)\n",
    "alplate_adapter = temp_module.load_adapter(\"opentrons_aluminum_flat_bottom_plate\")\n",
    "plate = alplate_adapter.load_labware('corning_96_wellplate_360ul_flat')\n",
    "temp_module.set_temperature(celsius=30)"
   ]
  },
  {
   "cell_type": "code",
   "execution_count": 58,
   "metadata": {},
   "outputs": [],
   "source": [
    "tiprack_300.set_offset(x=0.50, y=1.10, z=0.00)\n",
    "tiprack_20.set_offset(x=0.00, y=0.90, z=0.00)\n",
    "plate.set_offset(x=0.00, y=1.50, z=0.00)"
   ]
  },
  {
   "cell_type": "code",
   "execution_count": 59,
   "metadata": {},
   "outputs": [],
   "source": [
    "tiprack_20_wells = [well for row in tiprack_20.rows() for well in row]\n",
    "tiprack_300_wells = [well for row in tiprack_300.rows() for well in row]\n",
    "stocks_wells = [well for row in stocks.rows() for well in row]\n",
    "plate_wells = [well for row in plate.rows() for well in row]"
   ]
  },
  {
   "cell_type": "code",
   "execution_count": 60,
   "metadata": {},
   "outputs": [
    {
     "name": "stdout",
     "output_type": "stream",
     "text": [
      "The index of well A1 is 0.\n"
     ]
    }
   ],
   "source": [
    "START_WELL_INDEX = next((i for i, well in enumerate(plate_wells) if well.well_name == START_WELL), None)\n",
    "if START_WELL_INDEX is not None:\n",
    "    print(f\"The index of well {START_WELL} is {START_WELL_INDEX}.\")\n",
    "else:\n",
    "    print(f\"Well {START_WELL} not found.\")"
   ]
  },
  {
   "cell_type": "code",
   "execution_count": 61,
   "metadata": {},
   "outputs": [],
   "source": [
    "def synthesize(stock_index, ds):\n",
    "    \"\"\" Synthesize AuNP by mixing components\n",
    "\n",
    "    stock_index : index of the stock to add (int)\n",
    "    ds : a pandas dataseries with volumes to be added. \n",
    "    \"\"\"\n",
    "    p300.pick_up_tip(tiprack_300_wells[int(stock_index)])\n",
    "    has_used_p20, has_used_p300 = False, False\n",
    "    need_p20 = (ds<20).any()\n",
    "    if need_p20:\n",
    "        p20.pick_up_tip(tiprack_20_wells[int(stock_index)])\n",
    "    for index, value in ds.items():\n",
    "        if value>20:\n",
    "            pipette = p300 \n",
    "            has_used_p300 = True\n",
    "        else:\n",
    "            pipette = p20\n",
    "            has_used_p20 = True\n",
    "        source_well = stocks_wells[int(stock_index)]\n",
    "        target_well = plate_wells[int(index) + START_WELL_INDEX]\n",
    "        current_date_time = datetime.now(Pacific)\n",
    "        time_str = current_date_time.strftime('%H:%M:%S')\n",
    "        print(\"[%s] Dispensing %s of %d from %s into well %s \"%(time_str, ds.name, value, source_well.well_name, target_well.well_name)) #,end='\\r', flush=False)\n",
    "        pipette.aspirate(value, source_well)\n",
    "        pipette.dispense(value, target_well.top())\n",
    "        if not stock_index in [0, 5]:\n",
    "            pipette.blow_out()\n",
    "        if stock_index==1:\n",
    "            has_used_p300 = False\n",
    "            \n",
    "    if has_used_p20:\n",
    "        p20.drop_tip()\n",
    "        \n",
    "    if has_used_p300:\n",
    "        p300.drop_tip()\n",
    "    else:\n",
    "        p300.return_tip()"
   ]
  },
  {
   "cell_type": "code",
   "execution_count": 69,
   "metadata": {},
   "outputs": [
    {
     "name": "stdout",
     "output_type": "stream",
     "text": [
      "[14:45:50] Dispensing CTAB of 96 from A1 into well A9 \n",
      "[14:45:50] Dispensing CTAB of 96 from A1 into well A3 \n",
      "[14:45:50] Dispensing CTAB of 96 from A1 into well A5 \n",
      "[14:45:50] Dispensing CTAB of 96 from A1 into well A1 \n",
      "[14:45:50] Dispensing CTAB of 96 from A1 into well A4 \n",
      "[14:45:50] Dispensing CTAB of 96 from A1 into well A6 \n",
      "[14:45:50] Dispensing CTAB of 96 from A1 into well A7 \n",
      "[14:45:50] Dispensing CTAB of 96 from A1 into well A8 \n",
      "[14:45:50] Dispensing CTAB of 96 from A1 into well A2 \n",
      "[14:45:50] Dispensing CTAB of 96 from A1 into well A10 \n",
      "[14:45:50] Dispensing Water of 83 from A2 into well A9 \n",
      "[14:45:50] Dispensing Water of 95 from A2 into well A3 \n",
      "[14:45:50] Dispensing Water of 99 from A2 into well A5 \n",
      "[14:45:50] Dispensing Water of 110 from A2 into well A1 \n",
      "[14:45:50] Dispensing Water of 103 from A2 into well A4 \n",
      "[14:45:50] Dispensing Water of 95 from A2 into well A6 \n",
      "[14:45:50] Dispensing Water of 106 from A2 into well A7 \n",
      "[14:45:50] Dispensing Water of 86 from A2 into well A8 \n",
      "[14:45:50] Dispensing Water of 98 from A2 into well A2 \n",
      "[14:45:50] Dispensing Water of 79 from A2 into well A10 \n",
      "[14:45:50] Dispensing GCH of 59 from A3 into well A9 \n",
      "[14:45:50] Dispensing GCH of 59 from A3 into well A3 \n",
      "[14:45:50] Dispensing GCH of 59 from A3 into well A5 \n",
      "[14:45:50] Dispensing GCH of 59 from A3 into well A1 \n",
      "[14:45:50] Dispensing GCH of 59 from A3 into well A4 \n",
      "[14:45:50] Dispensing GCH of 59 from A3 into well A6 \n",
      "[14:45:50] Dispensing GCH of 59 from A3 into well A7 \n",
      "[14:45:50] Dispensing GCH of 59 from A3 into well A8 \n",
      "[14:45:50] Dispensing GCH of 59 from A3 into well A2 \n",
      "[14:45:50] Dispensing GCH of 59 from A3 into well A10 \n",
      "[14:45:50] Dispensing AA of 29 from A4 into well A9 \n",
      "[14:45:50] Dispensing AA of 9 from A4 into well A3 \n",
      "[14:45:51] Dispensing AA of 13 from A4 into well A5 \n",
      "[14:45:51] Dispensing AA of 9 from A4 into well A1 \n",
      "[14:45:51] Dispensing AA of 11 from A4 into well A4 \n",
      "[14:45:51] Dispensing AA of 15 from A4 into well A6 \n",
      "[14:45:51] Dispensing AA of 13 from A4 into well A7 \n",
      "[14:45:51] Dispensing AA of 29 from A4 into well A8 \n",
      "[14:45:51] Dispensing AA of 6 from A4 into well A2 \n",
      "[14:45:51] Dispensing AA of 29 from A4 into well A10 \n",
      "[14:45:51] Dispensing SN of 9 from B1 into well A9 \n",
      "[14:45:51] Dispensing SN of 17 from B1 into well A3 \n",
      "[14:45:51] Dispensing SN of 9 from B1 into well A5 \n",
      "[14:45:51] Dispensing SN of 2 from B1 into well A1 \n",
      "[14:45:51] Dispensing SN of 7 from B1 into well A4 \n",
      "[14:45:51] Dispensing SN of 11 from B1 into well A6 \n",
      "[14:45:51] Dispensing SN of 2 from B1 into well A7 \n",
      "[14:45:51] Dispensing SN of 6 from B1 into well A8 \n",
      "[14:45:51] Dispensing SN of 17 from B1 into well A2 \n",
      "[14:45:51] Dispensing SN of 13 from B1 into well A10 \n",
      "[14:45:51] Dispensing GS of 24 from B2 into well A9 \n",
      "[14:45:51] Dispensing GS of 24 from B2 into well A3 \n",
      "[14:45:51] Dispensing GS of 24 from B2 into well A5 \n",
      "[14:45:51] Dispensing GS of 24 from B2 into well A1 \n",
      "[14:45:51] Dispensing GS of 24 from B2 into well A4 \n",
      "[14:45:51] Dispensing GS of 24 from B2 into well A6 \n",
      "[14:45:51] Dispensing GS of 24 from B2 into well A7 \n",
      "[14:45:51] Dispensing GS of 24 from B2 into well A8 \n",
      "[14:45:51] Dispensing GS of 24 from B2 into well A2 \n",
      "[14:45:51] Dispensing GS of 24 from B2 into well A10 \n",
      "[14:45:51] Dispensing CTAB of 96 from A1 into well A5 \n",
      "[14:45:51] Dispensing CTAB of 96 from A1 into well A6 \n",
      "[14:45:51] Dispensing CTAB of 96 from A1 into well A10 \n",
      "[14:45:51] Dispensing CTAB of 96 from A1 into well A1 \n",
      "[14:45:51] Dispensing CTAB of 96 from A1 into well A9 \n",
      "[14:45:51] Dispensing CTAB of 96 from A1 into well A7 \n",
      "[14:45:51] Dispensing CTAB of 96 from A1 into well A2 \n",
      "[14:45:51] Dispensing CTAB of 96 from A1 into well A4 \n",
      "[14:45:51] Dispensing CTAB of 96 from A1 into well A3 \n",
      "[14:45:51] Dispensing CTAB of 96 from A1 into well A8 \n",
      "[14:45:51] Dispensing Water of 99 from A2 into well A5 \n",
      "[14:45:51] Dispensing Water of 95 from A2 into well A6 \n",
      "[14:45:51] Dispensing Water of 79 from A2 into well A10 \n",
      "[14:45:51] Dispensing Water of 110 from A2 into well A1 \n",
      "[14:45:51] Dispensing Water of 83 from A2 into well A9 \n",
      "[14:45:51] Dispensing Water of 106 from A2 into well A7 \n",
      "[14:45:51] Dispensing Water of 98 from A2 into well A2 \n",
      "[14:45:51] Dispensing Water of 103 from A2 into well A4 \n",
      "[14:45:51] Dispensing Water of 95 from A2 into well A3 \n",
      "[14:45:51] Dispensing Water of 86 from A2 into well A8 \n",
      "[14:45:51] Dispensing GCH of 59 from A3 into well A5 \n",
      "[14:45:51] Dispensing GCH of 59 from A3 into well A6 \n",
      "[14:45:51] Dispensing GCH of 59 from A3 into well A10 \n",
      "[14:45:51] Dispensing GCH of 59 from A3 into well A1 \n",
      "[14:45:51] Dispensing GCH of 59 from A3 into well A9 \n",
      "[14:45:51] Dispensing GCH of 59 from A3 into well A7 \n",
      "[14:45:51] Dispensing GCH of 59 from A3 into well A2 \n",
      "[14:45:51] Dispensing GCH of 59 from A3 into well A4 \n",
      "[14:45:51] Dispensing GCH of 59 from A3 into well A3 \n",
      "[14:45:51] Dispensing GCH of 59 from A3 into well A8 \n",
      "[14:45:51] Dispensing AA of 13 from A4 into well A5 \n",
      "[14:45:51] Dispensing AA of 15 from A4 into well A6 \n",
      "[14:45:51] Dispensing AA of 29 from A4 into well A10 \n",
      "[14:45:51] Dispensing AA of 9 from A4 into well A1 \n",
      "[14:45:51] Dispensing AA of 29 from A4 into well A9 \n",
      "[14:45:51] Dispensing AA of 13 from A4 into well A7 \n",
      "[14:45:51] Dispensing AA of 6 from A4 into well A2 \n",
      "[14:45:51] Dispensing AA of 11 from A4 into well A4 \n",
      "[14:45:51] Dispensing AA of 9 from A4 into well A3 \n",
      "[14:45:51] Dispensing AA of 29 from A4 into well A8 \n",
      "[14:45:51] Dispensing SN of 9 from B1 into well A5 \n",
      "[14:45:51] Dispensing SN of 11 from B1 into well A6 \n",
      "[14:45:51] Dispensing SN of 13 from B1 into well A10 \n",
      "[14:45:51] Dispensing SN of 2 from B1 into well A1 \n",
      "[14:45:51] Dispensing SN of 9 from B1 into well A9 \n",
      "[14:45:51] Dispensing SN of 2 from B1 into well A7 \n",
      "[14:45:51] Dispensing SN of 17 from B1 into well A2 \n",
      "[14:45:51] Dispensing SN of 7 from B1 into well A4 \n",
      "[14:45:51] Dispensing SN of 17 from B1 into well A3 \n",
      "[14:45:51] Dispensing SN of 6 from B1 into well A8 \n",
      "[14:45:51] Dispensing GS of 24 from B2 into well A5 \n",
      "[14:45:51] Dispensing GS of 24 from B2 into well A6 \n",
      "[14:45:51] Dispensing GS of 24 from B2 into well A10 \n",
      "[14:45:51] Dispensing GS of 24 from B2 into well A1 \n",
      "[14:45:51] Dispensing GS of 24 from B2 into well A9 \n",
      "[14:45:51] Dispensing GS of 24 from B2 into well A7 \n",
      "[14:45:51] Dispensing GS of 24 from B2 into well A2 \n",
      "[14:45:51] Dispensing GS of 24 from B2 into well A4 \n",
      "[14:45:51] Dispensing GS of 24 from B2 into well A3 \n",
      "[14:45:51] Dispensing GS of 24 from B2 into well A8 \n",
      "[14:45:51] Dispensing water of 300 from A2 into well A11 \n"
     ]
    },
    {
     "data": {
      "text/plain": [
       "<InstrumentContext: p300_single_v2.1 in RIGHT>"
      ]
     },
     "execution_count": 69,
     "metadata": {},
     "output_type": "execute_result"
    }
   ],
   "source": [
    "for _ in range(2):\n",
    "    synth_volumes_df = volume_df.sample(frac=1)\n",
    "    for stock_index,(_, stock_vol_series) in enumerate(synth_volumes_df.items()):\n",
    "        synthesize(stock_index, stock_vol_series)\n",
    "\n",
    "# Add water for control\n",
    "p300.pick_up_tip(tiprack_300_wells[1])\n",
    "source_well = stocks_wells[1]\n",
    "p300.aspirate(300, stocks_wells[1])\n",
    "target_well = plate_wells[len(volume_df) + START_WELL_INDEX]\n",
    "p300.dispense(200, target_well.top())\n",
    "current_date_time = datetime.now(Pacific)\n",
    "time_str = current_date_time.strftime('%H:%M:%S')\n",
    "print(\"[%s] Dispensing %s of %d from %s into well %s \"%(time_str, \"water\", 300, source_well.well_name, target_well.well_name))\n",
    "p300.drop_tip()\n"
   ]
  },
  {
   "cell_type": "code",
   "execution_count": 64,
   "metadata": {},
   "outputs": [
    {
     "name": "stdout",
     "output_type": "stream",
     "text": [
      "End Time: 14:44:23\n"
     ]
    }
   ],
   "source": [
    "current_date_time = datetime.now(Pacific)\n",
    "print(current_date_time.strftime('End Time: %H:%M:%S'))"
   ]
  },
  {
   "cell_type": "code",
   "execution_count": 65,
   "metadata": {},
   "outputs": [],
   "source": [
    "protocol.set_rail_lights(False)"
   ]
  },
  {
   "cell_type": "code",
   "execution_count": 66,
   "metadata": {},
   "outputs": [],
   "source": [
    "protocol.home()"
   ]
  },
  {
   "cell_type": "code",
   "execution_count": 67,
   "metadata": {},
   "outputs": [
    {
     "name": "stdout",
     "output_type": "stream",
     "text": [
      "Keeping the temperature module on for 30 mins at the initial temperature\n"
     ]
    }
   ],
   "source": [
    "print(\"Keeping the temperature module on for 30 mins at the initial temperature\")"
   ]
  },
  {
   "cell_type": "code",
   "execution_count": 68,
   "metadata": {},
   "outputs": [
    {
     "name": "stdout",
     "output_type": "stream",
     "text": [
      "Time remaining: 29:56\n"
     ]
    },
    {
     "ename": "KeyboardInterrupt",
     "evalue": "",
     "output_type": "error",
     "traceback": [
      "\u001b[0;31m---------------------------------------------------------------------------\u001b[0m",
      "\u001b[0;31mKeyboardInterrupt\u001b[0m                         Traceback (most recent call last)",
      "Cell \u001b[0;32mIn[68], line 14\u001b[0m\n\u001b[1;32m     11\u001b[0m     \u001b[38;5;28mprint\u001b[39m(\u001b[38;5;124m\"\u001b[39m\u001b[38;5;124mTime\u001b[39m\u001b[38;5;124m'\u001b[39m\u001b[38;5;124ms up!\u001b[39m\u001b[38;5;124m\"\u001b[39m)\n\u001b[1;32m     13\u001b[0m \u001b[38;5;66;03m# Start a 30-minute countdown\u001b[39;00m\n\u001b[0;32m---> 14\u001b[0m \u001b[43mcountdown\u001b[49m\u001b[43m(\u001b[49m\u001b[38;5;241;43m30\u001b[39;49m\u001b[43m)\u001b[49m\n",
      "Cell \u001b[0;32mIn[68], line 9\u001b[0m, in \u001b[0;36mcountdown\u001b[0;34m(minutes)\u001b[0m\n\u001b[1;32m      7\u001b[0m     clear_output(wait\u001b[38;5;241m=\u001b[39m\u001b[38;5;28;01mTrue\u001b[39;00m)\n\u001b[1;32m      8\u001b[0m     \u001b[38;5;28mprint\u001b[39m(\u001b[38;5;124mf\u001b[39m\u001b[38;5;124m\"\u001b[39m\u001b[38;5;124mTime remaining: \u001b[39m\u001b[38;5;132;01m{\u001b[39;00mmins\u001b[38;5;132;01m:\u001b[39;00m\u001b[38;5;124m02d\u001b[39m\u001b[38;5;132;01m}\u001b[39;00m\u001b[38;5;124m:\u001b[39m\u001b[38;5;132;01m{\u001b[39;00msecs\u001b[38;5;132;01m:\u001b[39;00m\u001b[38;5;124m02d\u001b[39m\u001b[38;5;132;01m}\u001b[39;00m\u001b[38;5;124m\"\u001b[39m)\n\u001b[0;32m----> 9\u001b[0m     \u001b[43mtime\u001b[49m\u001b[38;5;241;43m.\u001b[39;49m\u001b[43msleep\u001b[49m\u001b[43m(\u001b[49m\u001b[38;5;241;43m1\u001b[39;49m\u001b[43m)\u001b[49m\n\u001b[1;32m     10\u001b[0m clear_output(wait\u001b[38;5;241m=\u001b[39m\u001b[38;5;28;01mTrue\u001b[39;00m)\n\u001b[1;32m     11\u001b[0m \u001b[38;5;28mprint\u001b[39m(\u001b[38;5;124m\"\u001b[39m\u001b[38;5;124mTime\u001b[39m\u001b[38;5;124m'\u001b[39m\u001b[38;5;124ms up!\u001b[39m\u001b[38;5;124m\"\u001b[39m)\n",
      "\u001b[0;31mKeyboardInterrupt\u001b[0m: "
     ]
    }
   ],
   "source": [
    "def countdown(minutes):\n",
    "    total_seconds = minutes * 60\n",
    "    for remaining in range(total_seconds, 0, -1):\n",
    "        # Convert seconds to minutes and seconds\n",
    "        mins, secs = divmod(remaining, 60)\n",
    "        # Clear output in the notebook for a clean update\n",
    "        clear_output(wait=True)\n",
    "        print(f\"Time remaining: {mins:02d}:{secs:02d}\")\n",
    "        time.sleep(1)\n",
    "    clear_output(wait=True)\n",
    "    print(\"Time's up!\")\n",
    "\n",
    "# Start a 30-minute countdown\n",
    "countdown(30)\n"
   ]
  },
  {
   "cell_type": "code",
   "execution_count": null,
   "metadata": {},
   "outputs": [],
   "source": []
  }
 ],
 "metadata": {
  "kernelspec": {
   "display_name": "OT2",
   "language": "python",
   "name": "python3"
  },
  "language_info": {
   "codemirror_mode": {
    "name": "ipython",
    "version": 3
   },
   "file_extension": ".py",
   "mimetype": "text/x-python",
   "name": "python",
   "nbconvert_exporter": "python",
   "pygments_lexer": "ipython3",
   "version": "3.10.0"
  }
 },
 "nbformat": 4,
 "nbformat_minor": 2
}
