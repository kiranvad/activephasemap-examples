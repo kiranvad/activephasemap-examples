{
 "cells": [
  {
   "cell_type": "code",
   "execution_count": 6,
   "metadata": {},
   "outputs": [],
   "source": [
    "from activephasemap.simulators import UVVisExperiment\n",
    "import numpy as np\n",
    "import pandas as pd \n",
    "import matplotlib.pyplot as plt"
   ]
  },
  {
   "cell_type": "code",
   "execution_count": 7,
   "metadata": {},
   "outputs": [],
   "source": [
    "ITERATION = 14"
   ]
  },
  {
   "cell_type": "code",
   "execution_count": 8,
   "metadata": {},
   "outputs": [
    {
     "name": "stdout",
     "output_type": "stream",
     "text": [
      "Loading data from iteration 0 with shapes: (12, 2) (12, 101)\n",
      "Loading data from iteration 1 with shapes: (6, 2) (6, 101)\n",
      "Loading data from iteration 2 with shapes: (6, 2) (6, 101)\n",
      "Loading data from iteration 3 with shapes: (6, 2) (6, 101)\n",
      "Loading data from iteration 4 with shapes: (6, 2) (6, 101)\n",
      "Loading data from iteration 5 with shapes: (6, 2) (6, 101)\n",
      "Loading data from iteration 6 with shapes: (6, 2) (6, 101)\n",
      "Loading data from iteration 7 with shapes: (6, 2) (6, 101)\n",
      "Loading data from iteration 8 with shapes: (6, 2) (6, 101)\n",
      "Loading data from iteration 9 with shapes: (6, 2) (6, 101)\n",
      "Loading data from iteration 10 with shapes: (6, 2) (6, 101)\n",
      "Loading data from iteration 11 with shapes: (6, 2) (6, 101)\n",
      "Loading data from iteration 12 with shapes: (6, 2) (6, 101)\n",
      "Loading data from iteration 13 with shapes: (6, 2) (6, 101)\n"
     ]
    }
   ],
   "source": [
    "design_space_bounds = [(0.0, 35.0), (0.0, 35.0)]\n",
    "expt = UVVisExperiment(design_space_bounds, \"../data/\")\n",
    "expt.read_iter_data(ITERATION)\n",
    "expt.generate(use_spline=True)"
   ]
  },
  {
   "cell_type": "code",
   "execution_count": 9,
   "metadata": {},
   "outputs": [],
   "source": [
    "comps = expt.comps"
   ]
  },
  {
   "cell_type": "code",
   "execution_count": 10,
   "metadata": {},
   "outputs": [
    {
     "data": {
      "text/html": [
       "<div>\n",
       "<style scoped>\n",
       "    .dataframe tbody tr th:only-of-type {\n",
       "        vertical-align: middle;\n",
       "    }\n",
       "\n",
       "    .dataframe tbody tr th {\n",
       "        vertical-align: top;\n",
       "    }\n",
       "\n",
       "    .dataframe thead th {\n",
       "        text-align: right;\n",
       "    }\n",
       "</style>\n",
       "<table border=\"1\" class=\"dataframe\">\n",
       "  <thead>\n",
       "    <tr style=\"text-align: right;\">\n",
       "      <th></th>\n",
       "      <th>CTAB</th>\n",
       "      <th>Water</th>\n",
       "      <th>GCH</th>\n",
       "      <th>AA</th>\n",
       "      <th>SN</th>\n",
       "      <th>GS</th>\n",
       "    </tr>\n",
       "  </thead>\n",
       "  <tbody>\n",
       "    <tr>\n",
       "      <th>0</th>\n",
       "      <td>96</td>\n",
       "      <td>89</td>\n",
       "      <td>59</td>\n",
       "      <td>7</td>\n",
       "      <td>25</td>\n",
       "      <td>24</td>\n",
       "    </tr>\n",
       "    <tr>\n",
       "      <th>1</th>\n",
       "      <td>96</td>\n",
       "      <td>81</td>\n",
       "      <td>59</td>\n",
       "      <td>28</td>\n",
       "      <td>12</td>\n",
       "      <td>24</td>\n",
       "    </tr>\n",
       "    <tr>\n",
       "      <th>2</th>\n",
       "      <td>96</td>\n",
       "      <td>106</td>\n",
       "      <td>59</td>\n",
       "      <td>13</td>\n",
       "      <td>2</td>\n",
       "      <td>24</td>\n",
       "    </tr>\n",
       "    <tr>\n",
       "      <th>3</th>\n",
       "      <td>96</td>\n",
       "      <td>68</td>\n",
       "      <td>59</td>\n",
       "      <td>22</td>\n",
       "      <td>31</td>\n",
       "      <td>24</td>\n",
       "    </tr>\n",
       "    <tr>\n",
       "      <th>4</th>\n",
       "      <td>96</td>\n",
       "      <td>77</td>\n",
       "      <td>59</td>\n",
       "      <td>17</td>\n",
       "      <td>27</td>\n",
       "      <td>24</td>\n",
       "    </tr>\n",
       "    <tr>\n",
       "      <th>...</th>\n",
       "      <td>...</td>\n",
       "      <td>...</td>\n",
       "      <td>...</td>\n",
       "      <td>...</td>\n",
       "      <td>...</td>\n",
       "      <td>...</td>\n",
       "    </tr>\n",
       "    <tr>\n",
       "      <th>85</th>\n",
       "      <td>96</td>\n",
       "      <td>90</td>\n",
       "      <td>59</td>\n",
       "      <td>21</td>\n",
       "      <td>10</td>\n",
       "      <td>24</td>\n",
       "    </tr>\n",
       "    <tr>\n",
       "      <th>86</th>\n",
       "      <td>96</td>\n",
       "      <td>111</td>\n",
       "      <td>59</td>\n",
       "      <td>2</td>\n",
       "      <td>8</td>\n",
       "      <td>24</td>\n",
       "    </tr>\n",
       "    <tr>\n",
       "      <th>87</th>\n",
       "      <td>96</td>\n",
       "      <td>73</td>\n",
       "      <td>59</td>\n",
       "      <td>25</td>\n",
       "      <td>23</td>\n",
       "      <td>24</td>\n",
       "    </tr>\n",
       "    <tr>\n",
       "      <th>88</th>\n",
       "      <td>96</td>\n",
       "      <td>94</td>\n",
       "      <td>59</td>\n",
       "      <td>11</td>\n",
       "      <td>16</td>\n",
       "      <td>24</td>\n",
       "    </tr>\n",
       "    <tr>\n",
       "      <th>89</th>\n",
       "      <td>96</td>\n",
       "      <td>109</td>\n",
       "      <td>59</td>\n",
       "      <td>3</td>\n",
       "      <td>9</td>\n",
       "      <td>24</td>\n",
       "    </tr>\n",
       "  </tbody>\n",
       "</table>\n",
       "<p>90 rows × 6 columns</p>\n",
       "</div>"
      ],
      "text/plain": [
       "    CTAB  Water  GCH  AA  SN  GS\n",
       "0     96     89   59   7  25  24\n",
       "1     96     81   59  28  12  24\n",
       "2     96    106   59  13   2  24\n",
       "3     96     68   59  22  31  24\n",
       "4     96     77   59  17  27  24\n",
       "..   ...    ...  ...  ..  ..  ..\n",
       "85    96     90   59  21  10  24\n",
       "86    96    111   59   2   8  24\n",
       "87    96     73   59  25  23  24\n",
       "88    96     94   59  11  16  24\n",
       "89    96    109   59   3   9  24\n",
       "\n",
       "[90 rows x 6 columns]"
      ]
     },
     "execution_count": 10,
     "metadata": {},
     "output_type": "execute_result"
    }
   ],
   "source": [
    "CTAB = 96\n",
    "GCH = 59\n",
    "GS = 24 \n",
    "n_samples = len(comps)\n",
    "SN = np.round(comps[:,0].reshape(-1,1)).astype(int)\n",
    "AA = np.round(comps[:,1].reshape(-1,1)).astype(int)\n",
    "CTAB_ = np.array([CTAB]*n_samples).reshape(-1,1)\n",
    "GCH_ = np.array([GCH]*n_samples).reshape(-1,1)\n",
    "GS = np.array([GS]*n_samples).reshape(-1,1)\n",
    "\n",
    "volumes = np.hstack((CTAB_, GCH_, AA, SN, GS))\n",
    "WATER = 300 - np.sum(volumes, axis=1).reshape(-1,1)\n",
    "volumes_ = np.hstack((CTAB_, WATER, GCH_, AA, SN, GS))\n",
    "volume_df = pd.DataFrame(volumes_, columns=['CTAB', 'Water', 'GCH', 'AA', 'SN', 'GS'])\n",
    "volume_df"
   ]
  },
  {
   "cell_type": "code",
   "execution_count": 11,
   "metadata": {},
   "outputs": [
    {
     "name": "stdout",
     "output_type": "stream",
     "text": [
      "Total volumes needed : \n",
      " CTAB     8640\n",
      "Water    7864\n",
      "GCH      5310\n",
      "AA       1635\n",
      "SN       1391\n",
      "GS       2160\n",
      "dtype: int64\n"
     ]
    }
   ],
   "source": [
    "print(\"Total volumes needed : \\n\", volume_df.sum())"
   ]
  },
  {
   "cell_type": "code",
   "execution_count": 13,
   "metadata": {},
   "outputs": [
    {
     "data": {
      "image/png": "[encoded data removed]",
      "text/plain": [
       "<Figure size 640x480 with 1 Axes>"
      ]
     },
     "metadata": {},
     "output_type": "display_data"
    }
   ],
   "source": [
    "fig, ax = plt.subplots()\n",
    "bounds = np.asarray(design_space_bounds).T\n",
    "ax.scatter(volume_df[\"SN\"], volume_df[\"AA\"])\n",
    "ax.set_xlim([bounds[0,0], bounds[1,0]])\n",
    "ax.set_ylim([bounds[0,1], bounds[1,1]])\n",
    "ax.set_xlabel(\"Silver Nitrate (µL)\")\n",
    "ax.set_ylabel(\"Ascorbic Acid (µL)\")\n",
    "plt.show()"
   ]
  },
  {
   "cell_type": "code",
   "execution_count": 15,
   "metadata": {},
   "outputs": [],
   "source": [
    "volume_df.to_csv('../opentrons/volumes_all_iters.csv',index=False)"
   ]
  },
  {
   "cell_type": "code",
   "execution_count": null,
   "metadata": {},
   "outputs": [],
   "source": []
  }
 ],
 "metadata": {
  "kernelspec": {
   "display_name": "activephasemap",
   "language": "python",
   "name": "python3"
  },
  "language_info": {
   "codemirror_mode": {
    "name": "ipython",
    "version": 3
   },
   "file_extension": ".py",
   "mimetype": "text/x-python",
   "name": "python",
   "nbconvert_exporter": "python",
   "pygments_lexer": "ipython3",
   "version": "3.11.0"
  }
 },
 "nbformat": 4,
 "nbformat_minor": 2
}
