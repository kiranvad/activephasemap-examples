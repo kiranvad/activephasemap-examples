{
 "cells": [
  {
   "cell_type": "code",
   "execution_count": 28,
   "metadata": {},
   "outputs": [],
   "source": [
    "import numpy as np\n",
    "import matplotlib.pyplot as plt"
   ]
  },
  {
   "cell_type": "code",
   "execution_count": 29,
   "metadata": {},
   "outputs": [],
   "source": [
    "def cotangent(a, b, c):\n",
    "    \"\"\"\n",
    "    Compute the cotangent of the non-degenerate triangle abc at vertex b.\n",
    "    a, b, c are numpy arrays representing 2D points.\n",
    "    \"\"\"\n",
    "    ba = a - b\n",
    "    bc = c - b\n",
    "    return np.dot(bc, ba) / np.linalg.norm(np.cross(bc, ba))"
   ]
  },
  {
   "cell_type": "code",
   "execution_count": 30,
   "metadata": {},
   "outputs": [],
   "source": [
    "def compute_barycentric(p, polygon):\n",
    "    \"\"\"\n",
    "    Compute barycentric weights for a point p in an n-gon polygon.\n",
    "    :param p: A numpy array representing the point in 2D.\n",
    "    :param polygon: A list of numpy arrays representing the vertices of the polygon in order.\n",
    "    :return: Barycentric weights for the point p.\n",
    "    \"\"\"\n",
    "    n = len(polygon)\n",
    "    weights = np.zeros(n)\n",
    "    weight_sum = 0\n",
    "    \n",
    "    for j in range(n):\n",
    "        prev = (j - 1 + n) % n\n",
    "        next = (j + 1) % n\n",
    "        \n",
    "        wj = (cotangent(p, polygon[j], polygon[prev]) +\n",
    "              cotangent(p, polygon[j], polygon[next])) / np.linalg.norm(p - polygon[j])**2\n",
    "        weights[j] = wj\n",
    "        weight_sum += wj\n",
    "    \n",
    "    # Normalize the weights\n",
    "    weights /= weight_sum\n",
    "    return weights"
   ]
  },
  {
   "cell_type": "code",
   "execution_count": 31,
   "metadata": {},
   "outputs": [
    {
     "name": "stdout",
     "output_type": "stream",
     "text": [
      "Hyperplane grid samples shape: (100, 3)\n",
      "First few hyperplane grid samples: [[0.         0.         1.        ]\n",
      " [0.         0.11111111 0.88888889]\n",
      " [0.         0.22222222 0.77777778]\n",
      " [0.         0.33333333 0.66666667]\n",
      " [0.         0.44444444 0.55555556]]\n"
     ]
    }
   ],
   "source": [
    "def generate_simplex_grid(dim, num_points):\n",
    "    \"\"\"\n",
    "    Generate a grid of points in n-dimensions such that their sum adds up to 1.\n",
    "\n",
    "    Parameters:\n",
    "        dim (int): Number of dimensions.\n",
    "        num_points (int): Number of points along each axis.\n",
    "\n",
    "    Returns:\n",
    "        np.ndarray: Array of grid points on the simplex with shape (total_points, dim).\n",
    "    \"\"\"\n",
    "    # Generate grid points in the unit hypercube\n",
    "    grids = [np.linspace(0, 1, num_points) for _ in range(dim-1)]\n",
    "    grid_mesh = np.meshgrid(*grids, indexing=\"ij\")\n",
    "    grid_points = np.stack([g.ravel() for g in grid_mesh], axis=-1)\n",
    "    grid_points_last = (1.0-np.sum(grid_points, axis=1)).reshape(num_points**(dim-1), 1)\n",
    "    simplex_points = np.concatenate((grid_points, grid_points_last), axis=1)\n",
    "\n",
    "    return simplex_points\n",
    "\n",
    "# Example Usage\n",
    "dim = 3  # 3-dimensional space\n",
    "num_points = 10  # Number of points per dimension\n",
    "\n",
    "hyperplane_grid_samples = generate_simplex_grid(dim, num_points)\n",
    "print(\"Hyperplane grid samples shape:\", hyperplane_grid_samples.shape)\n",
    "print(\"First few hyperplane grid samples:\", hyperplane_grid_samples[:5])"
   ]
  },
  {
   "cell_type": "code",
   "execution_count": 32,
   "metadata": {},
   "outputs": [],
   "source": [
    "def embed_hypersphere(points):    \n",
    "    # Project the points to 2D using barycentric weights of a polygon\n",
    "    polygon = [\n",
    "        np.array([np.cos(2 * np.pi * i / dim), np.sin(2 * np.pi * i / dim)])\n",
    "        for i in range(dim)\n",
    "    ]\n",
    "    \n",
    "    embedded_points = []\n",
    "    for point in points:\n",
    "        # Take only the first 2 coordinates (project the hypersphere)\n",
    "        weights = compute_barycentric(point, polygon)\n",
    "        embedded_point = sum(w * vertex for w, vertex in zip(weights, polygon))\n",
    "        embedded_points.append(embedded_point)\n",
    "    \n",
    "    embedded_points = np.array(embedded_points)\n",
    "    return embedded_points, polygon"
   ]
  },
  {
   "cell_type": "code",
   "execution_count": 33,
   "metadata": {},
   "outputs": [
    {
     "ename": "ValueError",
     "evalue": "operands could not be broadcast together with shapes (3,) (2,) ",
     "output_type": "error",
     "traceback": [
      "\u001b[0;31m---------------------------------------------------------------------------\u001b[0m",
      "\u001b[0;31mValueError\u001b[0m                                Traceback (most recent call last)",
      "Cell \u001b[0;32mIn[33], line 3\u001b[0m\n\u001b[1;32m      1\u001b[0m \u001b[38;5;66;03m# Visualization\u001b[39;00m\n\u001b[0;32m----> 3\u001b[0m embedded_points_2D, polygon_2D \u001b[38;5;241m=\u001b[39m \u001b[43membed_hypersphere\u001b[49m\u001b[43m(\u001b[49m\u001b[43mhyperplane_grid_samples\u001b[49m\u001b[43m)\u001b[49m\n\u001b[1;32m      5\u001b[0m plt\u001b[38;5;241m.\u001b[39mfigure(figsize\u001b[38;5;241m=\u001b[39m(\u001b[38;5;241m8\u001b[39m, \u001b[38;5;241m6\u001b[39m))\n\u001b[1;32m      6\u001b[0m plt\u001b[38;5;241m.\u001b[39mscatter(embedded_points_2D[:, \u001b[38;5;241m0\u001b[39m], embedded_points_2D[:, \u001b[38;5;241m1\u001b[39m], c\u001b[38;5;241m=\u001b[39m\u001b[38;5;124m'\u001b[39m\u001b[38;5;124mblue\u001b[39m\u001b[38;5;124m'\u001b[39m, alpha\u001b[38;5;241m=\u001b[39m\u001b[38;5;241m0.6\u001b[39m, label\u001b[38;5;241m=\u001b[39m\u001b[38;5;124m'\u001b[39m\u001b[38;5;124mProjected Points\u001b[39m\u001b[38;5;124m'\u001b[39m)\n",
      "Cell \u001b[0;32mIn[32], line 11\u001b[0m, in \u001b[0;36membed_hypersphere\u001b[0;34m(points)\u001b[0m\n\u001b[1;32m      8\u001b[0m embedded_points \u001b[38;5;241m=\u001b[39m []\n\u001b[1;32m      9\u001b[0m \u001b[38;5;28;01mfor\u001b[39;00m point \u001b[38;5;129;01min\u001b[39;00m points:\n\u001b[1;32m     10\u001b[0m     \u001b[38;5;66;03m# Take only the first 2 coordinates (project the hypersphere)\u001b[39;00m\n\u001b[0;32m---> 11\u001b[0m     weights \u001b[38;5;241m=\u001b[39m \u001b[43mcompute_barycentric\u001b[49m\u001b[43m(\u001b[49m\u001b[43mpoint\u001b[49m\u001b[43m,\u001b[49m\u001b[43m \u001b[49m\u001b[43mpolygon\u001b[49m\u001b[43m)\u001b[49m\n\u001b[1;32m     12\u001b[0m     embedded_point \u001b[38;5;241m=\u001b[39m \u001b[38;5;28msum\u001b[39m(w \u001b[38;5;241m*\u001b[39m vertex \u001b[38;5;28;01mfor\u001b[39;00m w, vertex \u001b[38;5;129;01min\u001b[39;00m \u001b[38;5;28mzip\u001b[39m(weights, polygon))\n\u001b[1;32m     13\u001b[0m     embedded_points\u001b[38;5;241m.\u001b[39mappend(embedded_point)\n",
      "Cell \u001b[0;32mIn[30], line 16\u001b[0m, in \u001b[0;36mcompute_barycentric\u001b[0;34m(p, polygon)\u001b[0m\n\u001b[1;32m     13\u001b[0m prev \u001b[38;5;241m=\u001b[39m (j \u001b[38;5;241m-\u001b[39m \u001b[38;5;241m1\u001b[39m \u001b[38;5;241m+\u001b[39m n) \u001b[38;5;241m%\u001b[39m n\n\u001b[1;32m     14\u001b[0m \u001b[38;5;28mnext\u001b[39m \u001b[38;5;241m=\u001b[39m (j \u001b[38;5;241m+\u001b[39m \u001b[38;5;241m1\u001b[39m) \u001b[38;5;241m%\u001b[39m n\n\u001b[0;32m---> 16\u001b[0m wj \u001b[38;5;241m=\u001b[39m (\u001b[43mcotangent\u001b[49m\u001b[43m(\u001b[49m\u001b[43mp\u001b[49m\u001b[43m,\u001b[49m\u001b[43m \u001b[49m\u001b[43mpolygon\u001b[49m\u001b[43m[\u001b[49m\u001b[43mj\u001b[49m\u001b[43m]\u001b[49m\u001b[43m,\u001b[49m\u001b[43m \u001b[49m\u001b[43mpolygon\u001b[49m\u001b[43m[\u001b[49m\u001b[43mprev\u001b[49m\u001b[43m]\u001b[49m\u001b[43m)\u001b[49m \u001b[38;5;241m+\u001b[39m\n\u001b[1;32m     17\u001b[0m       cotangent(p, polygon[j], polygon[\u001b[38;5;28mnext\u001b[39m])) \u001b[38;5;241m/\u001b[39m np\u001b[38;5;241m.\u001b[39mlinalg\u001b[38;5;241m.\u001b[39mnorm(p \u001b[38;5;241m-\u001b[39m polygon[j])\u001b[38;5;241m*\u001b[39m\u001b[38;5;241m*\u001b[39m\u001b[38;5;241m2\u001b[39m\n\u001b[1;32m     18\u001b[0m weights[j] \u001b[38;5;241m=\u001b[39m wj\n\u001b[1;32m     19\u001b[0m weight_sum \u001b[38;5;241m+\u001b[39m\u001b[38;5;241m=\u001b[39m wj\n",
      "Cell \u001b[0;32mIn[29], line 6\u001b[0m, in \u001b[0;36mcotangent\u001b[0;34m(a, b, c)\u001b[0m\n\u001b[1;32m      1\u001b[0m \u001b[38;5;28;01mdef\u001b[39;00m \u001b[38;5;21mcotangent\u001b[39m(a, b, c):\n\u001b[1;32m      2\u001b[0m \u001b[38;5;250m    \u001b[39m\u001b[38;5;124;03m\"\"\"\u001b[39;00m\n\u001b[1;32m      3\u001b[0m \u001b[38;5;124;03m    Compute the cotangent of the non-degenerate triangle abc at vertex b.\u001b[39;00m\n\u001b[1;32m      4\u001b[0m \u001b[38;5;124;03m    a, b, c are numpy arrays representing 2D points.\u001b[39;00m\n\u001b[1;32m      5\u001b[0m \u001b[38;5;124;03m    \"\"\"\u001b[39;00m\n\u001b[0;32m----> 6\u001b[0m     ba \u001b[38;5;241m=\u001b[39m \u001b[43ma\u001b[49m\u001b[43m \u001b[49m\u001b[38;5;241;43m-\u001b[39;49m\u001b[43m \u001b[49m\u001b[43mb\u001b[49m\n\u001b[1;32m      7\u001b[0m     bc \u001b[38;5;241m=\u001b[39m c \u001b[38;5;241m-\u001b[39m b\n\u001b[1;32m      8\u001b[0m     \u001b[38;5;28;01mreturn\u001b[39;00m np\u001b[38;5;241m.\u001b[39mdot(bc, ba) \u001b[38;5;241m/\u001b[39m np\u001b[38;5;241m.\u001b[39mlinalg\u001b[38;5;241m.\u001b[39mnorm(np\u001b[38;5;241m.\u001b[39mcross(bc, ba))\n",
      "\u001b[0;31mValueError\u001b[0m: operands could not be broadcast together with shapes (3,) (2,) "
     ]
    }
   ],
   "source": [
    "# Visualization\n",
    "\n",
    "embedded_points_2D, polygon_2D = embed_hypersphere(hyperplane_grid_samples)\n",
    "\n",
    "plt.figure(figsize=(8, 6))\n",
    "plt.scatter(embedded_points_2D[:, 0], embedded_points_2D[:, 1], c='blue', alpha=0.6, label='Projected Points')\n",
    "polygon_coords = np.array(polygon_2D)\n",
    "plt.plot(np.append(polygon_coords[:, 0], polygon_coords[0, 0]),\n",
    "         np.append(polygon_coords[:, 1], polygon_coords[0, 1]),\n",
    "         c='red', label='Polygon Edges')\n",
    "plt.scatter(polygon_coords[:, 0], polygon_coords[:, 1], c='green', label='Polygon Vertices')\n",
    "plt.title(\"Embedding a 5D Hypersphere in 2D\")\n",
    "plt.xlabel(\"X\")\n",
    "plt.ylabel(\"Y\")\n",
    "plt.legend()\n",
    "plt.grid()\n",
    "plt.show()"
   ]
  }
 ],
 "metadata": {
  "kernelspec": {
   "display_name": "activephasemap",
   "language": "python",
   "name": "python3"
  },
  "language_info": {
   "codemirror_mode": {
    "name": "ipython",
    "version": 3
   },
   "file_extension": ".py",
   "mimetype": "text/x-python",
   "name": "python",
   "nbconvert_exporter": "python",
   "pygments_lexer": "ipython3",
   "version": "3.11.0"
  }
 },
 "nbformat": 4,
 "nbformat_minor": 2
}
