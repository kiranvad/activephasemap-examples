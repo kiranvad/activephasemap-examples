{
 "cells": [
  {
   "cell_type": "code",
   "execution_count": 1,
   "metadata": {},
   "outputs": [],
   "source": [
    "import numpy as np \n",
    "import pandas as pd \n",
    "import matplotlib.pyplot as plt\n",
    "\n",
    "bounds = np.asarray([(0.0, 35.0), (0.0, 35.0)]).T \n",
    "ITERATION = 16"
   ]
  },
  {
   "cell_type": "code",
   "execution_count": 2,
   "metadata": {},
   "outputs": [],
   "source": [
    "CTAB = 96\n",
    "GCH = 59\n",
    "GS = 24 "
   ]
  },
  {
   "cell_type": "code",
   "execution_count": 3,
   "metadata": {},
   "outputs": [],
   "source": [
    "comps = np.load('./data/comps_%d.npy'%ITERATION)\n",
    "n_samples = len(comps)\n",
    "SN = np.round(comps[:,0].reshape(-1,1)).astype(int)\n",
    "AA = np.round(comps[:,1].reshape(-1,1)).astype(int)"
   ]
  },
  {
   "cell_type": "code",
   "execution_count": 4,
   "metadata": {},
   "outputs": [
    {
     "data": {
      "text/html": [
       "<div>\n",
       "<style scoped>\n",
       "    .dataframe tbody tr th:only-of-type {\n",
       "        vertical-align: middle;\n",
       "    }\n",
       "\n",
       "    .dataframe tbody tr th {\n",
       "        vertical-align: top;\n",
       "    }\n",
       "\n",
       "    .dataframe thead th {\n",
       "        text-align: right;\n",
       "    }\n",
       "</style>\n",
       "<table border=\"1\" class=\"dataframe\">\n",
       "  <thead>\n",
       "    <tr style=\"text-align: right;\">\n",
       "      <th></th>\n",
       "      <th>CTAB</th>\n",
       "      <th>Water</th>\n",
       "      <th>GCH</th>\n",
       "      <th>AA</th>\n",
       "      <th>SN</th>\n",
       "      <th>GS</th>\n",
       "    </tr>\n",
       "  </thead>\n",
       "  <tbody>\n",
       "    <tr>\n",
       "      <th>0</th>\n",
       "      <td>96</td>\n",
       "      <td>115</td>\n",
       "      <td>59</td>\n",
       "      <td>4</td>\n",
       "      <td>2</td>\n",
       "      <td>24</td>\n",
       "    </tr>\n",
       "    <tr>\n",
       "      <th>1</th>\n",
       "      <td>96</td>\n",
       "      <td>100</td>\n",
       "      <td>59</td>\n",
       "      <td>4</td>\n",
       "      <td>17</td>\n",
       "      <td>24</td>\n",
       "    </tr>\n",
       "    <tr>\n",
       "      <th>2</th>\n",
       "      <td>96</td>\n",
       "      <td>110</td>\n",
       "      <td>59</td>\n",
       "      <td>9</td>\n",
       "      <td>2</td>\n",
       "      <td>24</td>\n",
       "    </tr>\n",
       "    <tr>\n",
       "      <th>3</th>\n",
       "      <td>96</td>\n",
       "      <td>98</td>\n",
       "      <td>59</td>\n",
       "      <td>6</td>\n",
       "      <td>17</td>\n",
       "      <td>24</td>\n",
       "    </tr>\n",
       "    <tr>\n",
       "      <th>4</th>\n",
       "      <td>96</td>\n",
       "      <td>95</td>\n",
       "      <td>59</td>\n",
       "      <td>9</td>\n",
       "      <td>17</td>\n",
       "      <td>24</td>\n",
       "    </tr>\n",
       "    <tr>\n",
       "      <th>5</th>\n",
       "      <td>96</td>\n",
       "      <td>103</td>\n",
       "      <td>59</td>\n",
       "      <td>11</td>\n",
       "      <td>7</td>\n",
       "      <td>24</td>\n",
       "    </tr>\n",
       "    <tr>\n",
       "      <th>6</th>\n",
       "      <td>96</td>\n",
       "      <td>99</td>\n",
       "      <td>59</td>\n",
       "      <td>13</td>\n",
       "      <td>9</td>\n",
       "      <td>24</td>\n",
       "    </tr>\n",
       "    <tr>\n",
       "      <th>7</th>\n",
       "      <td>96</td>\n",
       "      <td>95</td>\n",
       "      <td>59</td>\n",
       "      <td>15</td>\n",
       "      <td>11</td>\n",
       "      <td>24</td>\n",
       "    </tr>\n",
       "    <tr>\n",
       "      <th>8</th>\n",
       "      <td>96</td>\n",
       "      <td>106</td>\n",
       "      <td>59</td>\n",
       "      <td>13</td>\n",
       "      <td>2</td>\n",
       "      <td>24</td>\n",
       "    </tr>\n",
       "    <tr>\n",
       "      <th>9</th>\n",
       "      <td>96</td>\n",
       "      <td>86</td>\n",
       "      <td>59</td>\n",
       "      <td>29</td>\n",
       "      <td>6</td>\n",
       "      <td>24</td>\n",
       "    </tr>\n",
       "    <tr>\n",
       "      <th>10</th>\n",
       "      <td>96</td>\n",
       "      <td>83</td>\n",
       "      <td>59</td>\n",
       "      <td>29</td>\n",
       "      <td>9</td>\n",
       "      <td>24</td>\n",
       "    </tr>\n",
       "    <tr>\n",
       "      <th>11</th>\n",
       "      <td>96</td>\n",
       "      <td>79</td>\n",
       "      <td>59</td>\n",
       "      <td>29</td>\n",
       "      <td>13</td>\n",
       "      <td>24</td>\n",
       "    </tr>\n",
       "    <tr>\n",
       "      <th>12</th>\n",
       "      <td>96</td>\n",
       "      <td>103</td>\n",
       "      <td>59</td>\n",
       "      <td>11</td>\n",
       "      <td>7</td>\n",
       "      <td>24</td>\n",
       "    </tr>\n",
       "    <tr>\n",
       "      <th>13</th>\n",
       "      <td>96</td>\n",
       "      <td>99</td>\n",
       "      <td>59</td>\n",
       "      <td>13</td>\n",
       "      <td>9</td>\n",
       "      <td>24</td>\n",
       "    </tr>\n",
       "    <tr>\n",
       "      <th>14</th>\n",
       "      <td>96</td>\n",
       "      <td>95</td>\n",
       "      <td>59</td>\n",
       "      <td>15</td>\n",
       "      <td>11</td>\n",
       "      <td>24</td>\n",
       "    </tr>\n",
       "  </tbody>\n",
       "</table>\n",
       "</div>"
      ],
      "text/plain": [
       "    CTAB  Water  GCH  AA  SN  GS\n",
       "0     96    115   59   4   2  24\n",
       "1     96    100   59   4  17  24\n",
       "2     96    110   59   9   2  24\n",
       "3     96     98   59   6  17  24\n",
       "4     96     95   59   9  17  24\n",
       "5     96    103   59  11   7  24\n",
       "6     96     99   59  13   9  24\n",
       "7     96     95   59  15  11  24\n",
       "8     96    106   59  13   2  24\n",
       "9     96     86   59  29   6  24\n",
       "10    96     83   59  29   9  24\n",
       "11    96     79   59  29  13  24\n",
       "12    96    103   59  11   7  24\n",
       "13    96     99   59  13   9  24\n",
       "14    96     95   59  15  11  24"
      ]
     },
     "execution_count": 4,
     "metadata": {},
     "output_type": "execute_result"
    }
   ],
   "source": [
    "CTAB_ = np.array([CTAB]*n_samples).reshape(-1,1)\n",
    "GCH_ = np.array([GCH]*n_samples).reshape(-1,1)\n",
    "GS = np.array([GS]*n_samples).reshape(-1,1)\n",
    "\n",
    "volumes = np.hstack((CTAB_, GCH_, AA, SN, GS))\n",
    "WATER = 300 - np.sum(volumes, axis=1).reshape(-1,1)\n",
    "volumes_ = np.hstack((CTAB_, WATER, GCH_, AA, SN, GS))\n",
    "volume_df = pd.DataFrame(volumes_, columns=['CTAB', 'Water', 'GCH', 'AA', 'SN', 'GS'])\n",
    "volume_df"
   ]
  },
  {
   "cell_type": "code",
   "execution_count": 5,
   "metadata": {},
   "outputs": [
    {
     "name": "stdout",
     "output_type": "stream",
     "text": [
      "Total volumes needed : \n",
      " CTAB     1440\n",
      "Water    1466\n",
      "GCH       885\n",
      "AA        210\n",
      "SN        139\n",
      "GS        360\n",
      "dtype: int64\n"
     ]
    }
   ],
   "source": [
    "print(\"Total volumes needed : \\n\", volume_df.sum())"
   ]
  },
  {
   "cell_type": "code",
   "execution_count": 6,
   "metadata": {},
   "outputs": [
    {
     "data": {
      "image/png": "[encoded data removed]",
      "text/plain": [
       "<Figure size 640x480 with 1 Axes>"
      ]
     },
     "metadata": {},
     "output_type": "display_data"
    }
   ],
   "source": [
    "fig, ax = plt.subplots()\n",
    "ax.scatter(volume_df[\"SN\"], volume_df[\"AA\"])\n",
    "ax.set_xlim([bounds[0,0], bounds[1,0]])\n",
    "ax.set_ylim([bounds[0,1], bounds[1,1]])\n",
    "ax.set_xlabel(\"Silver Nitrate (µL)\")\n",
    "ax.set_ylabel(\"Ascorbic Acid (µL)\")\n",
    "plt.show()"
   ]
  },
  {
   "cell_type": "code",
   "execution_count": 7,
   "metadata": {},
   "outputs": [],
   "source": [
    "volume_df.to_csv('./opentrons/volumes_%d.csv'%(ITERATION),index=False)"
   ]
  },
  {
   "cell_type": "code",
   "execution_count": null,
   "metadata": {},
   "outputs": [],
   "source": []
  }
 ],
 "metadata": {
  "kernelspec": {
   "display_name": "activephasemap",
   "language": "python",
   "name": "python3"
  },
  "language_info": {
   "codemirror_mode": {
    "name": "ipython",
    "version": 3
   },
   "file_extension": ".py",
   "mimetype": "text/x-python",
   "name": "python",
   "nbconvert_exporter": "python",
   "pygments_lexer": "ipython3",
   "version": "3.11.0"
  }
 },
 "nbformat": 4,
 "nbformat_minor": 2
}
