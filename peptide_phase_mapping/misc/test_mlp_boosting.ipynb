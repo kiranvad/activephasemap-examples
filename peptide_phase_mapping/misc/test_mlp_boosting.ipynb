{
 "cells": [
  {
   "cell_type": "code",
   "execution_count": 1,
   "metadata": {},
   "outputs": [],
   "source": [
    "import torch\n",
    "torch.set_default_dtype(torch.double)\n",
    "from activephasemap.models.mlp import MLP\n",
    "import xgboost as xgb\n",
    "from sklearn.metrics import root_mean_squared_error\n",
    "from sklearn.model_selection import train_test_split\n",
    "import numpy as np "
   ]
  },
  {
   "cell_type": "code",
   "execution_count": 5,
   "metadata": {},
   "outputs": [],
   "source": [
    "# load data\n",
    "train_x = torch.load(\"./boosting_data/train_x_4.pt\", weights_only=True)\n",
    "train_z_mean = torch.load(\"./boosting_data/train_z_mean_4.pt\", weights_only=True)\n",
    "train_z_std = torch.load(\"./boosting_data/train_z_std_4.pt\", weights_only=True)"
   ]
  },
  {
   "cell_type": "code",
   "execution_count": 6,
   "metadata": {},
   "outputs": [
    {
     "name": "stdout",
     "output_type": "stream",
     "text": [
      "Epoch   1/1000 - Loss: 2.274  Evaluation Loss: 2.020  Early stopping counter: 0\n",
      "Epoch 101/1000 - Loss: 1.264  Evaluation Loss: 1.606  Early stopping counter: 35\n",
      "Early stopping...\n",
      "Epoch 174/1000 - Loss: 1.179  Evaluation Loss: 1.631 \n"
     ]
    }
   ],
   "source": [
    "mlp_model_args = {\"num_epochs\" : 1000, \n",
    "                 \"learning_rate\" : 1e-3, \n",
    "                 \"verbose\": 100,\n",
    "                 }\n",
    "comp_model = MLP(train_x, train_z_mean, train_z_std, **mlp_model_args)\n",
    "comp_train_loss, comp_eval_loss = comp_model.fit(use_early_stoping=True)"
   ]
  },
  {
   "cell_type": "code",
   "execution_count": 7,
   "metadata": {},
   "outputs": [],
   "source": [
    "# X_np = train_x.numpy()\n",
    "# y_np = torch.cat((train_z_mean, train_z_std), dim=1).numpy()\n",
    "\n",
    "X_xgb = np.random.randn(50, 2)\n",
    "y_xgb = np.sum(X_xgb, axis=1) + np.random.randn(50) * 0.1\n",
    "\n",
    "# Split the data\n",
    "X_train, X_test, y_train, y_test = train_test_split(X_xgb, y_xgb, test_size=0.2, random_state=42)\n",
    "dtrain = xgb.DMatrix(X_train, label=y_train)\n",
    "dtest = xgb.DMatrix(X_test, label=y_test)\n",
    "\n",
    "# Set XGBoost parameters for regression\n",
    "params = {\n",
    "    'objective': 'reg:squarederror',  # Regression objective\n",
    "    'max_depth': 5,\n",
    "    'eta': 0.1,  # Learning rate\n",
    "    'eval_metric': 'rmse',\n",
    "    'tree_method': 'hist'\n",
    "}\n",
    "\n",
    "# Train the model\n",
    "evals = [(dtrain, 'train'), (dtest, 'test')]\n",
    "\n",
    "# Train the model with verbose output\n",
    "model = xgb.train(\n",
    "    params,\n",
    "    dtrain,\n",
    "    evals=evals,\n",
    "    verbose_eval=True\n",
    ")\n",
    "\n",
    "# Predict on the test set\n",
    "y_pred = model.predict(dtest)\n",
    "\n",
    "# Calculate the Root Mean Squared Error (RMSE)\n",
    "rmse = root_mean_squared_error(y_test, y_pred, squared=False)\n",
    "print(f\"Test RMSE: {rmse:.4f}\")"
   ]
  },
  {
   "cell_type": "code",
   "execution_count": 2,
   "metadata": {},
   "outputs": [],
   "source": [
    "from sklearn.datasets import fetch_california_housing\n",
    "from sklearn.model_selection import GridSearchCV\n",
    "\n",
    "X, y = fetch_california_housing(return_X_y=True)\n",
    "xgb_model = xgb.XGBRegressor(tree_method=\"hist\")\n",
    "clf = GridSearchCV(\n",
    "    xgb_model,\n",
    "    {\"max_depth\": [2, 4, 6], \"n_estimators\": [50, 100, 200]},\n",
    "    verbose=1,\n",
    ")\n",
    "clf.fit(X, y)\n",
    "print(clf.best_score_)\n",
    "print(clf.best_params_)"
   ]
  },
  {
   "cell_type": "code",
   "execution_count": null,
   "metadata": {},
   "outputs": [],
   "source": []
  }
 ],
 "metadata": {
  "kernelspec": {
   "display_name": "activephasemap",
   "language": "python",
   "name": "python3"
  },
  "language_info": {
   "codemirror_mode": {
    "name": "ipython",
    "version": 3
   },
   "file_extension": ".py",
   "mimetype": "text/x-python",
   "name": "python",
   "nbconvert_exporter": "python",
   "pygments_lexer": "ipython3",
   "version": "3.11.0"
  }
 },
 "nbformat": 4,
 "nbformat_minor": 2
}
