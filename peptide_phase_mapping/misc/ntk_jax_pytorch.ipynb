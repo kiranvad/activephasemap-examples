{
 "cells": [
  {
   "cell_type": "code",
   "execution_count": 1,
   "metadata": {},
   "outputs": [],
   "source": [
    "import torch\n",
    "import torch.utils.dlpack\n",
    "import jax\n",
    "import jax.dlpack\n",
    "import os\n",
    "os.environ[\"XLA_PYTHON_CLIENT_PREALLOCATE\"] = \"false\"\n",
    "from jax2torch import jax2torch \n",
    "import jax.numpy as jnp\n",
    "\n",
    "import neural_tangents as nt\n",
    "from neural_tangents import stax\n",
    "from jax import jit"
   ]
  },
  {
   "cell_type": "code",
   "execution_count": null,
   "metadata": {},
   "outputs": [],
   "source": [
    "import matplotlib.pyplot as plt\n",
    "import functools\n",
    "\n",
    "def format_plot(x=None, y=None):\n",
    "  # plt.grid(False)\n",
    "  ax = plt.gca()\n",
    "  if x is not None:\n",
    "    plt.xlabel(x, fontsize=20)\n",
    "  if y is not None:\n",
    "    plt.ylabel(y, fontsize=20)\n",
    "\n",
    "def finalize_plot(shape=(1, 1)):\n",
    "  plt.gcf().set_size_inches(\n",
    "    shape[0] * 1.5 * plt.gcf().get_size_inches()[1],\n",
    "    shape[1] * 1.5 * plt.gcf().get_size_inches()[1])\n",
    "  plt.tight_layout()\n",
    "\n",
    "legend = functools.partial(plt.legend, fontsize=10)"
   ]
  },
  {
   "cell_type": "code",
   "execution_count": null,
   "metadata": {},
   "outputs": [],
   "source": [
    "def plot_fn(train, test, *fs):\n",
    "  train_xs, train_ys = train\n",
    "\n",
    "  plt.plot(train_xs, train_ys, 'ro', markersize=10, label='train')\n",
    "\n",
    "  if test != None:\n",
    "    test_xs, test_ys = test\n",
    "    plt.plot(test_xs, test_ys, 'k--', linewidth=3, label='$f(x)$')\n",
    "\n",
    "    for f in fs:\n",
    "      plt.plot(test_xs, f(test_xs), '-', linewidth=3)\n",
    "\n",
    "  plt.xlim([-jnp.pi, jnp.pi])\n",
    "  plt.ylim([-1.5, 1.5])\n",
    "\n",
    "  format_plot('$x$', '$f$')"
   ]
  },
  {
   "cell_type": "code",
   "execution_count": null,
   "metadata": {},
   "outputs": [],
   "source": [
    "def loss_fn(predict_fn, ys, t, xs=None):\n",
    "  mean, cov = predict_fn(t=t, get='ntk', x_test=xs, compute_cov=True)\n",
    "  mean = jnp.reshape(mean, mean.shape[:1] + (-1,))\n",
    "  var = jnp.diagonal(cov, axis1=1, axis2=2)\n",
    "  ys = jnp.reshape(ys, (1, -1))\n",
    "\n",
    "  mean_predictions = 0.5 * jnp.mean(ys ** 2 - 2 * mean * ys + var + mean ** 2,\n",
    "                                   axis=1)\n",
    "\n",
    "  return mean_predictions"
   ]
  },
  {
   "cell_type": "code",
   "execution_count": null,
   "metadata": {},
   "outputs": [
    {
     "data": {
      "image/png": "[encoded data removed]",
      "text/plain": [
       "<Figure size 612x432 with 1 Axes>"
      ]
     },
     "metadata": {},
     "output_type": "display_data"
    }
   ],
   "source": [
    "from jax import random\n",
    "\n",
    "key = random.PRNGKey(10)\n",
    "train_points = 5\n",
    "test_points = 50\n",
    "noise_scale = 1e-1\n",
    "\n",
    "target_fn = lambda x: jnp.sin(x)\n",
    "\n",
    "key, x_key, y_key = random.split(key, 3)\n",
    "\n",
    "train_xs = random.uniform(x_key, (train_points, 1), minval=-jnp.pi, maxval=jnp.pi)\n",
    "\n",
    "train_ys = target_fn(train_xs)\n",
    "train_ys += noise_scale * random.normal(y_key, (train_points, 1))\n",
    "train = (train_xs, train_ys)\n",
    "\n",
    "test_xs = jnp.linspace(-jnp.pi, jnp.pi, test_points)\n",
    "test_xs = jnp.reshape(test_xs, (test_points, 1))\n",
    "\n",
    "test_ys = target_fn(test_xs)\n",
    "test = (test_xs, test_ys)\n",
    "\n",
    "plot_fn(train, test)\n",
    "legend(loc='upper left')\n",
    "finalize_plot((0.85, 0.6))"
   ]
  },
  {
   "cell_type": "code",
   "execution_count": null,
   "metadata": {},
   "outputs": [],
   "source": [
    "init_fn, apply_fn, kernel_fn = stax.serial(\n",
    "    stax.Dense(512, W_std=1.5, b_std=0.05), stax.Erf(),\n",
    "    stax.Dense(512, W_std=1.5, b_std=0.05), stax.Erf(),\n",
    "    stax.Dense(1, W_std=1.5, b_std=0.05)\n",
    ")\n",
    "\n",
    "apply_fn = jit(apply_fn)\n",
    "kernel_fn = jit(kernel_fn, static_argnames='get')"
   ]
  },
  {
   "cell_type": "code",
   "execution_count": null,
   "metadata": {},
   "outputs": [],
   "source": [
    "predict_fn = nt.predict.gradient_descent_mse_ensemble(kernel_fn, train_xs,\n",
    "                                                      train_ys, diag_reg=1e-4)\n",
    "\n",
    "nngp_mean, nngp_covariance = predict_fn(x_test=test_xs, get='nngp',\n",
    "                                        compute_cov=True)\n",
    "\n",
    "nngp_mean = jnp.reshape(nngp_mean, (-1,))\n",
    "nngp_std = jnp.sqrt(jnp.diag(nngp_covariance))\n",
    "\n",
    "plot_fn(train, test)\n",
    "plt.plot(test_xs, nngp_mean, 'r-', linewidth=3)\n",
    "plt.fill_between(\n",
    "    jnp.reshape(test_xs, (-1)),\n",
    "    nngp_mean - 2 * nngp_std,\n",
    "    nngp_mean +  2 * nngp_std,\n",
    "    color='red', alpha=0.2)\n",
    "\n",
    "plt.xlim([-jnp.pi, jnp.pi])\n",
    "plt.ylim([-1.5, 1.5])\n",
    "\n",
    "legend(['Train', 'f(x)', 'Bayesian Inference'], loc='upper left')\n",
    "\n",
    "finalize_plot((0.85, 0.6))"
   ]
  }
 ],
 "metadata": {
  "kernelspec": {
   "display_name": "activephasemap",
   "language": "python",
   "name": "python3"
  },
  "language_info": {
   "codemirror_mode": {
    "name": "ipython",
    "version": 3
   },
   "file_extension": ".py",
   "mimetype": "text/x-python",
   "name": "python",
   "nbconvert_exporter": "python",
   "pygments_lexer": "ipython3",
   "version": "3.11.0"
  }
 },
 "nbformat": 4,
 "nbformat_minor": 2
}
