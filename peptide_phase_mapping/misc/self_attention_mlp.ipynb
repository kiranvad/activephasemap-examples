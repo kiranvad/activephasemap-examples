{
 "cells": [
  {
   "cell_type": "code",
   "execution_count": 1,
   "metadata": {},
   "outputs": [],
   "source": [
    "import torch\n",
    "import torch.nn as nn"
   ]
  },
  {
   "cell_type": "code",
   "execution_count": 2,
   "metadata": {},
   "outputs": [],
   "source": [
    "# Define Self-Attention mechanism\n",
    "class SelfAttention(nn.Module):\n",
    "    def __init__(self, input_dim):\n",
    "        super(SelfAttention, self).__init__()\n",
    "        self.query = nn.Linear(input_dim, input_dim)\n",
    "        self.key = nn.Linear(input_dim, input_dim)\n",
    "        self.value = nn.Linear(input_dim, input_dim)\n",
    "        self.softmax = nn.Softmax(dim=-1)\n",
    "\n",
    "    def forward(self, x):\n",
    "        # Compute query, key, and value matrices\n",
    "        Q = self.query(x)  # (batch_size, input_dim)\n",
    "        K = self.key(x)    # (batch_size, input_dim)\n",
    "        V = self.value(x)  # (batch_size, input_dim)\n",
    "        \n",
    "        # Compute attention scores\n",
    "        attention_scores = torch.matmul(Q, K.transpose(-2, -1)) / (x.shape[-1] ** 0.5)\n",
    "        attention_weights = self.softmax(attention_scores)\n",
    "        \n",
    "        # Apply attention weights to value matrix\n",
    "        attended_output = torch.matmul(attention_weights, V)\n",
    "        return attended_output"
   ]
  },
  {
   "cell_type": "code",
   "execution_count": 3,
   "metadata": {},
   "outputs": [],
   "source": [
    "# Define MLP with Self-Attention\n",
    "class SelfAttentionMLP(nn.Module):\n",
    "    def __init__(self, input_dim, hidden_dim, output_dim):\n",
    "        super(SelfAttentionMLP, self).__init__()\n",
    "        self.attention = SelfAttention(input_dim)\n",
    "        self.mlp = nn.Sequential(\n",
    "            nn.Linear(input_dim, hidden_dim),\n",
    "            nn.ReLU(),\n",
    "            nn.Linear(hidden_dim, output_dim)\n",
    "        )\n",
    "        \n",
    "    def forward(self, x):\n",
    "        # Apply self-attention to the input\n",
    "        attended_x = self.attention(x)\n",
    "        \n",
    "        # Pass the attended input through the MLP\n",
    "        output = self.mlp(attended_x)\n",
    "        return output"
   ]
  },
  {
   "cell_type": "code",
   "execution_count": 4,
   "metadata": {},
   "outputs": [
    {
     "name": "stdout",
     "output_type": "stream",
     "text": [
      "Input shape: torch.Size([10, 3])\n",
      "Output shape: torch.Size([10, 5])\n"
     ]
    }
   ],
   "source": [
    "# Input: batch of 3D vectors (batch_size, 3)\n",
    "batch_size = 10\n",
    "input_dim = 3\n",
    "hidden_dim = 64\n",
    "output_dim = 5  # Predicting 5D vectors\n",
    "\n",
    "model = SelfAttentionMLP(input_dim=input_dim, hidden_dim=hidden_dim, output_dim=output_dim)\n",
    "\n",
    "# Generate random input data\n",
    "inputs = torch.randn(batch_size, input_dim)\n",
    "\n",
    "# Forward pass through the model\n",
    "outputs = model(inputs)\n",
    "\n",
    "print(\"Input shape:\", inputs.shape)\n",
    "print(\"Output shape:\", outputs.shape)\n"
   ]
  }
 ],
 "metadata": {
  "kernelspec": {
   "display_name": "activephasemap",
   "language": "python",
   "name": "python3"
  },
  "language_info": {
   "codemirror_mode": {
    "name": "ipython",
    "version": 3
   },
   "file_extension": ".py",
   "mimetype": "text/x-python",
   "name": "python",
   "nbconvert_exporter": "python",
   "pygments_lexer": "ipython3",
   "version": "3.11.0"
  }
 },
 "nbformat": 4,
 "nbformat_minor": 2
}
