{
 "cells": [
  {
   "cell_type": "code",
   "execution_count": 78,
   "metadata": {},
   "outputs": [],
   "source": [
    "import numpy as np"
   ]
  },
  {
   "cell_type": "code",
   "execution_count": 79,
   "metadata": {},
   "outputs": [],
   "source": [
    "TARGET_VOLUME = 15 # in mL\n",
    "MAX_VOLUME = 280 # in µL\n",
    "FIXED_STOCKS = [54, 87, 13]"
   ]
  },
  {
   "cell_type": "markdown",
   "metadata": {},
   "source": [
    "## Solid stocks"
   ]
  },
  {
   "cell_type": "code",
   "execution_count": 80,
   "metadata": {},
   "outputs": [
    {
     "name": "stdout",
     "output_type": "stream",
     "text": [
      "Mass of HEPES required for stock solution : 21.4470 mg\n"
     ]
    }
   ],
   "source": [
    "HEPES = {\"Mwt\" : 238.3, # g/mol\n",
    "         \"Conc\" : 6 #mM\n",
    "         }\n",
    "\n",
    "def mass_required(component):\n",
    "    c = component[\"Conc\"]\n",
    "    mwt = component[\"Mwt\"]\n",
    "\n",
    "    return (c*TARGET_VOLUME*mwt)*1e-3 # in mg\n",
    "\n",
    "print(\"Mass of HEPES required for stock solution : %2.4f mg\"%mass_required(HEPES))"
   ]
  },
  {
   "cell_type": "code",
   "execution_count": 88,
   "metadata": {},
   "outputs": [
    {
     "name": "stdout",
     "output_type": "stream",
     "text": [
      "Concentration limits : [2.331, 6.231]\n"
     ]
    }
   ],
   "source": [
    "min_conc = (HEPES[\"Conc\"]*54)/(280-54-87)\n",
    "max_conc = (HEPES[\"Conc\"]*54)/(280-54-87-87)\n",
    "print(\"Concentration limits : [%.3f, %.3f]\"%(min_conc, max_conc))"
   ]
  },
  {
   "cell_type": "code",
   "execution_count": 89,
   "metadata": {},
   "outputs": [
    {
     "name": "stdout",
     "output_type": "stream",
     "text": [
      "Mass of Z2M246I required for stock solution : 4.1679 mg\n",
      "Concentration limits : [0.135, 0.246]\n"
     ]
    }
   ],
   "source": [
    "Z2M246I = {\"Mwt\" : 926.20, # g/mol\n",
    "         \"Conc\" : 0.3, #mM\n",
    "         }\n",
    "print(\"Mass of Z2M246I required for stock solution : %2.4f mg\"%mass_required(Z2M246I))\n",
    "min_conc = (Z2M246I[\"Conc\"]*87)/(280-87)\n",
    "max_conc = (Z2M246I[\"Conc\"]*87)/(280-87-87)\n",
    "print(\"Concentration limits : [%.3f, %.3f]\"%(min_conc, max_conc))"
   ]
  },
  {
   "cell_type": "code",
   "execution_count": 83,
   "metadata": {},
   "outputs": [
    {
     "name": "stdout",
     "output_type": "stream",
     "text": [
      "Mass of Z2 required for stock solution : 4.4114 mg\n",
      "Concentration limits : [0.188, 0.502]\n"
     ]
    }
   ],
   "source": [
    "Z2 = {\"Mwt\" : 980.32, # g/mol\n",
    "      \"Conc\" : 0.3, #mM\n",
    "      }\n",
    "\n",
    "print(\"Mass of Z2 required for stock solution : %2.4f mg\"%mass_required(Z2))\n",
    "max_conc = (Z2[\"Conc\"]*87)/(280-54-87-87)\n",
    "min_conc = (Z2[\"Conc\"]*87)/(280-54-87)\n",
    "print(\"Concentration limits : [%.3f, %.3f]\"%(min_conc, max_conc))"
   ]
  },
  {
   "cell_type": "markdown",
   "metadata": {},
   "source": [
    "### Liqid stocks"
   ]
  },
  {
   "cell_type": "code",
   "execution_count": 84,
   "metadata": {},
   "outputs": [
    {
     "name": "stdout",
     "output_type": "stream",
     "text": [
      "Volume of HAuCl4 required 150.0000 µL\n",
      "Max. concentration of HAuCl4 : 0.4869 mM\n"
     ]
    }
   ],
   "source": [
    "HAuCl4 = 1e3 #Concentration in mM \n",
    "target_HAuCl4 = 10 # mM \n",
    "volume = (target_HAuCl4*TARGET_VOLUME)/(HAuCl4) # mL\n",
    "\n",
    "print(\"Volume of HAuCl4 required %2.4f µL\"%(volume*1e3))\n",
    "\n",
    "max_conc = (target_HAuCl4*13)/(MAX_VOLUME-13)\n",
    "\n",
    "print(\"Max. concentration of HAuCl4 : %2.4f mM\"%max_conc)"
   ]
  },
  {
   "cell_type": "code",
   "execution_count": 85,
   "metadata": {},
   "outputs": [
    {
     "name": "stdout",
     "output_type": "stream",
     "text": [
      "Volume of water required for HAuCl4 is : 14.9999 \n"
     ]
    }
   ],
   "source": [
    "print(\"Volume of water required for HAuCl4 is : %2.4f \"%(TARGET_VOLUME - (volume*1e-3)))"
   ]
  }
 ],
 "metadata": {
  "kernelspec": {
   "display_name": "activephasemap",
   "language": "python",
   "name": "python3"
  },
  "language_info": {
   "codemirror_mode": {
    "name": "ipython",
    "version": 3
   },
   "file_extension": ".py",
   "mimetype": "text/x-python",
   "name": "python",
   "nbconvert_exporter": "python",
   "pygments_lexer": "ipython3",
   "version": "3.11.0"
  }
 },
 "nbformat": 4,
 "nbformat_minor": 2
}
