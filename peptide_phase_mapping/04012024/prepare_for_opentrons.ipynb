{
 "cells": [
  {
   "cell_type": "code",
   "execution_count": 8,
   "metadata": {},
   "outputs": [],
   "source": [
    "import numpy as np \n",
    "import pandas as pd \n",
    "from otto import Create_Directions as CD\n"
   ]
  },
  {
   "cell_type": "code",
   "execution_count": 9,
   "metadata": {},
   "outputs": [],
   "source": [
    "ITERATION = 8"
   ]
  },
  {
   "cell_type": "code",
   "execution_count": 10,
   "metadata": {},
   "outputs": [],
   "source": [
    "volume_df_2d = pd.read_csv('./2D/opentrons/volumes_%d.csv'%ITERATION)\n",
    "time_df_2d = pd.read_csv('./2D/opentrons/times_%d.csv'%ITERATION)\n",
    "volume_df_6d = pd.read_csv('./6D/opentrons/volumes_%d.csv'%ITERATION)\n",
    "time_df_6d = pd.read_csv('./6D/opentrons/times_%d.csv'%ITERATION)"
   ]
  },
  {
   "cell_type": "code",
   "execution_count": 11,
   "metadata": {},
   "outputs": [],
   "source": [
    "water_vol = np.array([280,0,0,0,0])\n",
    "water_time = np.array([0,0,0,0])"
   ]
  },
  {
   "cell_type": "code",
   "execution_count": 12,
   "metadata": {},
   "outputs": [],
   "source": [
    "# create direction array given volume and time \n",
    "v_array = np.vstack((volume_df_2d.to_numpy(), volume_df_6d.to_numpy(), water_vol))\n",
    "t_array = np.vstack((time_df_2d.to_numpy(), time_df_6d.to_numpy(), water_time))\n",
    "o_array = np.tile(np.array([1,2,3,4,5]), (v_array.shape[0], 1))"
   ]
  },
  {
   "cell_type": "code",
   "execution_count": 13,
   "metadata": {},
   "outputs": [
    {
     "name": "stdout",
     "output_type": "stream",
     "text": [
      "Total volumes required : [12143  3761  3993  2625  3941]\n",
      "Total number of samples :  95\n"
     ]
    }
   ],
   "source": [
    "print(\"Total volumes required :\", v_array.sum(axis=0))\n",
    "print(\"Total number of samples : \", v_array.shape[0])"
   ]
  },
  {
   "cell_type": "code",
   "execution_count": 14,
   "metadata": {},
   "outputs": [],
   "source": [
    "direction_array = CD.create_directions(v_array, t_array, o_array)"
   ]
  },
  {
   "cell_type": "code",
   "execution_count": 15,
   "metadata": {},
   "outputs": [],
   "source": [
    "# save direction array\n",
    "np.save('./directions/%d.npy'%ITERATION, direction_array)"
   ]
  },
  {
   "cell_type": "code",
   "execution_count": null,
   "metadata": {},
   "outputs": [],
   "source": []
  }
 ],
 "metadata": {
  "kernelspec": {
   "display_name": "autophasemap",
   "language": "python",
   "name": "python3"
  },
  "language_info": {
   "codemirror_mode": {
    "name": "ipython",
    "version": 3
   },
   "file_extension": ".py",
   "mimetype": "text/x-python",
   "name": "python",
   "nbconvert_exporter": "python",
   "pygments_lexer": "ipython3",
   "version": "3.11.0"
  }
 },
 "nbformat": 4,
 "nbformat_minor": 2
}
