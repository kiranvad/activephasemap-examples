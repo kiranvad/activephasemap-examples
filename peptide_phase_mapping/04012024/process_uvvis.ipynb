{
 "cells": [
  {
   "cell_type": "code",
   "execution_count": 1,
   "metadata": {},
   "outputs": [],
   "source": [
    "import numpy as np \n",
    "import pandas as pd \n",
    "ITERATION = 8"
   ]
  },
  {
   "cell_type": "code",
   "execution_count": 2,
   "metadata": {},
   "outputs": [],
   "source": [
    "df = pd.read_excel('./uvvis/%d.xlsx'%ITERATION, engine='openpyxl')\n",
    "wavelength = df.values[:,0]\n",
    "spectra = df.values[:,1:-1] \n",
    "water = df.values[:,-1]\n",
    "spectra = (spectra - water.reshape(-1,1)).T "
   ]
  },
  {
   "cell_type": "code",
   "execution_count": 5,
   "metadata": {},
   "outputs": [
    {
     "name": "stdout",
     "output_type": "stream",
     "text": [
      "(16, 101) (78, 101)\n"
     ]
    }
   ],
   "source": [
    "spectra_2d = spectra[:16,:]\n",
    "spectra_6d = spectra[16:,:]\n",
    "print(spectra_2d.shape, spectra_6d.shape)"
   ]
  },
  {
   "cell_type": "code",
   "execution_count": 6,
   "metadata": {},
   "outputs": [],
   "source": [
    "# Save spectra to respective numpy files\n",
    "np.save(\"./2D/data/spectra_%d.npy\"%ITERATION, spectra_2d)\n",
    "np.save(\"./6D/data/spectra_%d.npy\"%ITERATION, spectra_6d)\n",
    "np.save(\"./2D/data/wav.npy\", wavelength)\n",
    "np.save(\"./6D/data/wav.npy\", wavelength)"
   ]
  },
  {
   "cell_type": "code",
   "execution_count": null,
   "metadata": {},
   "outputs": [],
   "source": []
  }
 ],
 "metadata": {
  "kernelspec": {
   "display_name": "activephasemap",
   "language": "python",
   "name": "python3"
  },
  "language_info": {
   "codemirror_mode": {
    "name": "ipython",
    "version": 3
   },
   "file_extension": ".py",
   "mimetype": "text/x-python",
   "name": "python",
   "nbconvert_exporter": "python",
   "pygments_lexer": "ipython3",
   "version": "3.11.0"
  }
 },
 "nbformat": 4,
 "nbformat_minor": 2
}
