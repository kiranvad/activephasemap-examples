{
 "cells": [
  {
   "cell_type": "code",
   "execution_count": 1,
   "metadata": {},
   "outputs": [],
   "source": [
    "import torch\n",
    "import numpy as np \n",
    "import matplotlib.pyplot as plt \n",
    "import matplotlib.ticker as ticker\n",
    "import pandas as pd \n",
    "\n",
    "device = torch.device(\"cuda\" if torch.cuda.is_available() else \"cpu\")\n",
    "torch.set_default_dtype(torch.double)\n",
    "\n",
    "from activephasemap.models.np import NeuralProcess\n",
    "from activephasemap.models.mlp import MLP\n",
    "from activephasemap.utils.simulators import UVVisExperiment\n",
    "from activephasemap.utils.visuals import get_twod_grid\n",
    "from activephasemap.utils.acquisition import CompositeModelUncertainity\n",
    "import json \n",
    "\n",
    "from matplotlib.colors import Normalize\n",
    "from mpl_toolkits.axes_grid1 import make_axes_locatable\n",
    "from matplotlib import colormaps \n",
    "from matplotlib.cm import ScalarMappable\n",
    "\n",
    "pyplot_style ={\"text.usetex\": True,\n",
    "               \"text.latex.preamble\": r\"\\usepackage{amsfonts}\\usepackage[version=4]{mhchem}\",\n",
    "               \"axes.spines.right\" : False,\n",
    "               \"axes.spines.top\" : False,\n",
    "               \"font.size\": 22,\n",
    "               \"savefig.dpi\": 600,\n",
    "               \"savefig.bbox\": 'tight',\n",
    "              } \n",
    "\n",
    "import pdb"
   ]
  },
  {
   "cell_type": "code",
   "execution_count": 2,
   "metadata": {},
   "outputs": [],
   "source": [
    "DATA_DIR = \"./output/\"\n",
    "with open('/Users/pozzolabadmin/Documents/codebase/experiments/peptide_phase_mapping/04012024/best_config.json') as f:\n",
    "    best_np_config = json.load(f)\n",
    "N_LATENT = best_np_config[\"z_dim\"]\n",
    "design_space_bounds = [(0.0, 87.0), (0.0,11.0)]"
   ]
  },
  {
   "cell_type": "code",
   "execution_count": 3,
   "metadata": {},
   "outputs": [],
   "source": [
    "def load_models_from_iteration(iter):\n",
    "    expt = UVVisExperiment(design_space_bounds, \"../data/\")\n",
    "    expt.read_iter_data(iter)\n",
    "    expt.generate(use_spline=True)\n",
    "\n",
    "    # Load trained MLP model for p(z|c)\n",
    "    train_x = torch.load(DATA_DIR+'/train_x_%d.pt'%iter, map_location=device)\n",
    "    train_z_mean = torch.load(DATA_DIR+'/train_z_mean_%d.pt'%iter, map_location=device)\n",
    "    train_z_std = torch.load(DATA_DIR+'/train_z_std_%d.pt'%iter, map_location=device)\n",
    "    mlp = MLP(train_x, train_z_mean, train_z_std)\n",
    "    mlp_state_dict = torch.load(DATA_DIR+'/comp_model_%d.pt'%(iter), map_location=device)\n",
    "    mlp.load_state_dict(mlp_state_dict)\n",
    "\n",
    "    # Load trained NP model for p(y|z)\n",
    "    NP = NeuralProcess(best_np_config[\"r_dim\"], N_LATENT, best_np_config[\"h_dim\"]).to(device)\n",
    "    NP.load_state_dict(torch.load(DATA_DIR+'/np_model_%d.pt'%(iter), map_location=device))\n",
    "\n",
    "    return expt, mlp, NP"
   ]
  },
  {
   "cell_type": "code",
   "execution_count": 4,
   "metadata": {},
   "outputs": [],
   "source": [
    "def from_comp_to_spectrum(t, c, comp_model, np_model):\n",
    "    ci = torch.tensor(c).to(device)\n",
    "    z_mu, z_std = comp_model.mlp(ci)\n",
    "    z_dist = torch.distributions.Normal(z_mu, z_std)\n",
    "    z = z_dist.sample(torch.Size([128]))\n",
    "    t = torch.from_numpy(t).repeat(128, 1, 1).to(device)\n",
    "    t = torch.swapaxes(t, 1, 2)\n",
    "    y_samples, _ = np_model.xz_to_y(t, z)\n",
    "\n",
    "    mean_pred = y_samples.mean(dim=0, keepdim=True)\n",
    "    sigma_pred = y_samples.std(dim=0, keepdim=True)\n",
    "    mu_ = mean_pred.cpu().squeeze()\n",
    "    sigma_ = sigma_pred.cpu().squeeze() \n",
    "\n",
    "    return mu_, sigma_ "
   ]
  },
  {
   "cell_type": "code",
   "execution_count": 5,
   "metadata": {},
   "outputs": [],
   "source": [
    "def get_accuracy(comps, domain, spectra, comp_model, np_model):\n",
    "    Y = []\n",
    "    for i in range(comps.shape[0]):\n",
    "        y_pred,_ = from_comp_to_spectrum(domain, comps[i,:], comp_model, np_model)\n",
    "        Y.append(y_pred)\n",
    "    \n",
    "    target = torch.stack(Y)\n",
    "    input = torch.from_numpy(spectra)\n",
    "\n",
    "    loss = torch.nn.functional.mse_loss(input, target) \n",
    "    \n",
    "    return loss"
   ]
  },
  {
   "cell_type": "code",
   "execution_count": 6,
   "metadata": {},
   "outputs": [
    {
     "name": "stdout",
     "output_type": "stream",
     "text": [
      "Loading data from iteration 0 with shapes: (24, 2) (24, 101)\n",
      "Iteration 1 : Train error : 0.0089 \t Test error : 0.0376\n",
      "Loading data from iteration 0 with shapes: (24, 2) (24, 101)\n",
      "Loading data from iteration 1 with shapes: (11, 2) (11, 101)\n",
      "Iteration 2 : Train error : 0.0300 \t Test error : 0.1541\n",
      "Loading data from iteration 0 with shapes: (24, 2) (24, 101)\n",
      "Loading data from iteration 1 with shapes: (11, 2) (11, 101)\n",
      "Loading data from iteration 2 with shapes: (11, 2) (11, 101)\n",
      "Iteration 3 : Train error : 0.0737 \t Test error : 0.0789\n",
      "Loading data from iteration 0 with shapes: (24, 2) (24, 101)\n",
      "Loading data from iteration 1 with shapes: (11, 2) (11, 101)\n",
      "Loading data from iteration 2 with shapes: (11, 2) (11, 101)\n",
      "Loading data from iteration 3 with shapes: (11, 2) (11, 101)\n",
      "Iteration 4 : Train error : 0.0640 \t Test error : 0.1012\n",
      "Loading data from iteration 0 with shapes: (24, 2) (24, 101)\n",
      "Loading data from iteration 1 with shapes: (11, 2) (11, 101)\n",
      "Loading data from iteration 2 with shapes: (11, 2) (11, 101)\n",
      "Loading data from iteration 3 with shapes: (11, 2) (11, 101)\n",
      "Loading data from iteration 4 with shapes: (11, 2) (11, 101)\n",
      "Iteration 5 : Train error : 0.0599 \t Test error : 0.2167\n",
      "Loading data from iteration 0 with shapes: (24, 2) (24, 101)\n",
      "Loading data from iteration 1 with shapes: (11, 2) (11, 101)\n",
      "Loading data from iteration 2 with shapes: (11, 2) (11, 101)\n",
      "Loading data from iteration 3 with shapes: (11, 2) (11, 101)\n",
      "Loading data from iteration 4 with shapes: (11, 2) (11, 101)\n",
      "Loading data from iteration 5 with shapes: (11, 2) (11, 101)\n",
      "Iteration 6 : Train error : 0.0784 \t Test error : 0.1954\n",
      "Loading data from iteration 0 with shapes: (24, 2) (24, 101)\n",
      "Loading data from iteration 1 with shapes: (11, 2) (11, 101)\n",
      "Loading data from iteration 2 with shapes: (11, 2) (11, 101)\n",
      "Loading data from iteration 3 with shapes: (11, 2) (11, 101)\n",
      "Loading data from iteration 4 with shapes: (11, 2) (11, 101)\n",
      "Loading data from iteration 5 with shapes: (11, 2) (11, 101)\n",
      "Loading data from iteration 6 with shapes: (11, 2) (11, 101)\n",
      "Iteration 7 : Train error : 0.0713 \t Test error : nan\n"
     ]
    }
   ],
   "source": [
    "TOTAL_ITERATIONS = 7\n",
    "accuracies = np.zeros((TOTAL_ITERATIONS, 2))\n",
    "for iter in range(1,TOTAL_ITERATIONS+1):\n",
    "    expt, mlp, NP = load_models_from_iteration(iter)\n",
    "    train_mean_accuracy = get_accuracy(expt.comps.astype(np.double), \n",
    "                                       expt.t, \n",
    "                                       expt.spectra_normalized, \n",
    "                                       mlp, \n",
    "                                       NP\n",
    "                                       )\n",
    "    if not iter==TOTAL_ITERATIONS:\n",
    "        next_comps = np.load(\"../data/comps_%d.npy\"%(iter)).astype(np.double)\n",
    "        next_spectra = np.load(\"../data/spectra_%d.npy\"%(iter))\n",
    "        wav = np.load(\"../data/wav.npy\")\n",
    "        next_time = (wav-min(wav))/(max(wav)-min(wav))\n",
    "\n",
    "        test_mean_accuracy =  get_accuracy(next_comps, \n",
    "                                        next_time, \n",
    "                                        next_spectra, \n",
    "                                        mlp, \n",
    "                                        NP\n",
    "                                        )\n",
    "        accuracies[iter-1, :] = np.asarray([train_mean_accuracy.item(), test_mean_accuracy.item()])\n",
    "    else:\n",
    "        test_mean_accuracy = np.nan\n",
    "        accuracies[iter-1, :] = np.asarray([train_mean_accuracy.item(), np.nan])\n",
    "    \n",
    "    print(\"Iteration %d : Train error : %2.4f \\t Test error : %2.4f\"%(iter, train_mean_accuracy, test_mean_accuracy))\n",
    "\n"
   ]
  },
  {
   "cell_type": "code",
   "execution_count": 7,
   "metadata": {},
   "outputs": [
    {
     "data": {
      "image/png": "[encoded data removed]",
      "text/plain": [
       "<Figure size 500x500 with 1 Axes>"
      ]
     },
     "metadata": {},
     "output_type": "display_data"
    }
   ],
   "source": [
    "with plt.style.context(pyplot_style):\n",
    "    fig, ax = plt.subplots(figsize=(5,5))\n",
    "    xticks = np.arange(1, TOTAL_ITERATIONS+1)\n",
    "    ax.plot(xticks, accuracies[:,0],  \"-o\", color=\"tab:blue\", label=\"Train Error\")\n",
    "\n",
    "    ax.plot(xticks, accuracies[:,1],  \"-o\", color=\"tab:red\", label=\"Test Error\")\n",
    "    xlabels = [\"%d\"%x for x in xticks]\n",
    "\n",
    "    ax.set_xticks(xticks, labels=xlabels)\n",
    "    # ax.set_ylim([0.0, 0.2])\n",
    "    ax.set_ylabel(\"MSE\")\n",
    "    ax.set_xlabel(\"Experimental Iteration\")\n",
    "    ax.legend(fontsize=12)    \n",
    "    fig.tight_layout()\n",
    "    plt.savefig(\"./figures/error.png\") \n",
    "    plt.show()"
   ]
  },
  {
   "cell_type": "code",
   "execution_count": null,
   "metadata": {},
   "outputs": [],
   "source": []
  }
 ],
 "metadata": {
  "kernelspec": {
   "display_name": "activephasemap",
   "language": "python",
   "name": "python3"
  },
  "language_info": {
   "codemirror_mode": {
    "name": "ipython",
    "version": 3
   },
   "file_extension": ".py",
   "mimetype": "text/x-python",
   "name": "python",
   "nbconvert_exporter": "python",
   "pygments_lexer": "ipython3",
   "version": "3.11.0"
  }
 },
 "nbformat": 4,
 "nbformat_minor": 2
}
