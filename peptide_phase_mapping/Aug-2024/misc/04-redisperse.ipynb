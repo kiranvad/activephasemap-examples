{
 "cells": [
  {
   "cell_type": "code",
   "execution_count": 1,
   "metadata": {},
   "outputs": [
    {
     "name": "stderr",
     "output_type": "stream",
     "text": [
      "/Users/pozzolabadmin/.opentrons/robot_settings.json not found. Loading defaults\n",
      "Deck calibration not found.\n",
      "/Users/pozzolabadmin/.opentrons/deck_calibration.json not found. Loading defaults\n"
     ]
    }
   ],
   "source": [
    "import opentrons.simulate\n",
    "import json \n",
    "\n",
    "protocol = opentrons.simulate.get_protocol_api('2.18')\n",
    "CUSTOM_LABWARE_PATH = \"/Users/pozzolabadmin/Documents/codebase/experiments/peptide_phase_mapping/otto/otto/Custom_Labware/\"\n",
    "protocol.home()"
   ]
  },
  {
   "cell_type": "code",
   "execution_count": 2,
   "metadata": {},
   "outputs": [],
   "source": [
    "# load all the labware modules\n",
    "with open(CUSTOM_LABWARE_PATH+'agilent_6_reservoir_47000ul.json') as labware_file:\n",
    "    reservoir_def = json.load(labware_file)\n",
    "    reservoir = protocol.load_labware_from_definition(reservoir_def, location=1)\n",
    "\n",
    "synthesized_plate = protocol.load_labware(\n",
    "    load_name=\"corning_96_wellplate_360ul_flat\",\n",
    "    location=2)\n",
    "\n",
    "tiprack_300 = protocol.load_labware(\n",
    "    load_name=\"opentrons_96_tiprack_300ul\",\n",
    "    location=4)\n",
    "\n",
    "p300 = protocol.load_instrument(\n",
    "    instrument_name=\"p300_single_gen2\",\n",
    "    mount=\"right\",\n",
    "    tip_racks=[tiprack_300]\n",
    "    )"
   ]
  },
  {
   "cell_type": "code",
   "execution_count": 3,
   "metadata": {},
   "outputs": [],
   "source": [
    "# define the protocol\n",
    "def redisperse(well, pipette):\n",
    "    \"\"\" Redisperse liquid in a single well\n",
    "\n",
    "    well : destination well (Labware.well)\n",
    "    pipette : pipette module to use (InstrumentContext)\n",
    "    \"\"\"\n",
    "    print(\"redispersing %s...\"%well.well_name,end='\\r', flush=True)\n",
    "    pipette.mix(2, 30, well.bottom())\n",
    "    pipette.blow_out()\n",
    "\n",
    "    # clean the tip in a reservoir\n",
    "    pipette.mix(2, 30, reservoir[\"A3\"],rate=2)\n",
    "    pipette.mix(2, 30, reservoir[\"A4\"],rate=2)\n",
    "    pipette.blow_out(reservoir[\"A5\"])\n",
    "\n",
    "    return"
   ]
  },
  {
   "cell_type": "code",
   "execution_count": 4,
   "metadata": {},
   "outputs": [
    {
     "name": "stdout",
     "output_type": "stream",
     "text": [
      "redispersing H12...\r"
     ]
    },
    {
     "data": {
      "text/plain": [
       "<InstrumentContext: p300_single_v2.1 in RIGHT>"
      ]
     },
     "execution_count": 4,
     "metadata": {},
     "output_type": "execute_result"
    }
   ],
   "source": [
    "# redisperse full plate (iterations)\n",
    "p300.pick_up_tip(tiprack_300[\"A1\"])\n",
    "for well in synthesized_plate.wells():\n",
    "    redisperse(well, p300)\n",
    "p300.drop_tip(tiprack_300[\"A1\"])"
   ]
  },
  {
   "cell_type": "code",
   "execution_count": 5,
   "metadata": {},
   "outputs": [
    {
     "name": "stdout",
     "output_type": "stream",
     "text": [
      "redispersing C12...\r"
     ]
    },
    {
     "data": {
      "text/plain": [
       "<InstrumentContext: p300_single_v2.1 in RIGHT>"
      ]
     },
     "execution_count": 5,
     "metadata": {},
     "output_type": "execute_result"
    }
   ],
   "source": [
    "# redisperse validation plate (iterations)\n",
    "sample_rows = synthesized_plate.rows()[:3]\n",
    "p300.pick_up_tip(tiprack_300[\"A1\"])\n",
    "for row in sample_rows:\n",
    "    for well in row:\n",
    "        redisperse(well, p300)\n",
    "p300.drop_tip(tiprack_300[\"A1\"])"
   ]
  },
  {
   "cell_type": "code",
   "execution_count": null,
   "metadata": {},
   "outputs": [],
   "source": [
    "reservoir.wells()"
   ]
  },
  {
   "cell_type": "code",
   "execution_count": null,
   "metadata": {},
   "outputs": [],
   "source": []
  }
 ],
 "metadata": {
  "kernelspec": {
   "display_name": "OT2",
   "language": "python",
   "name": "python3"
  },
  "language_info": {
   "codemirror_mode": {
    "name": "ipython",
    "version": 3
   },
   "file_extension": ".py",
   "mimetype": "text/x-python",
   "name": "python",
   "nbconvert_exporter": "python",
   "pygments_lexer": "ipython3",
   "version": "3.10.0"
  }
 },
 "nbformat": 4,
 "nbformat_minor": 2
}
