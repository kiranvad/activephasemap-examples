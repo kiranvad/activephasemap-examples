{
 "cells": [
  {
   "cell_type": "code",
   "execution_count": 1,
   "metadata": {},
   "outputs": [],
   "source": [
    "import numpy as np \n",
    "import pandas as pd \n",
    "from otto import Create_Directions as CD\n",
    "from otto import OT2Directions as OT2D"
   ]
  },
  {
   "cell_type": "code",
   "execution_count": 2,
   "metadata": {},
   "outputs": [],
   "source": [
    "ITERATION = 6"
   ]
  },
  {
   "cell_type": "code",
   "execution_count": 3,
   "metadata": {},
   "outputs": [],
   "source": [
    "volume_df = pd.read_csv('./opentrons/volumes_%d.csv'%ITERATION)\n",
    "time_df = pd.read_csv('./opentrons/times_%d.csv'%ITERATION)"
   ]
  },
  {
   "cell_type": "code",
   "execution_count": 4,
   "metadata": {},
   "outputs": [],
   "source": [
    "water_vol = np.array([280,0,0,0,0])\n",
    "water_time = np.array([0,0,0,0])"
   ]
  },
  {
   "cell_type": "code",
   "execution_count": 5,
   "metadata": {},
   "outputs": [],
   "source": [
    "# create direction array given volume and time \n",
    "v_array = np.vstack((volume_df.to_numpy(), water_vol))\n",
    "t_array = np.vstack((time_df.to_numpy(), water_time))\n",
    "o_array = np.tile(np.array([1,2,3,4,5]), (v_array.shape[0], 1))"
   ]
  },
  {
   "cell_type": "code",
   "execution_count": 6,
   "metadata": {},
   "outputs": [
    {
     "name": "stdout",
     "output_type": "stream",
     "text": [
      "Total volumes required : [1323  594  957  143  343]\n",
      "Total number of samples :  12\n"
     ]
    }
   ],
   "source": [
    "print(\"Total volumes required :\", v_array.sum(axis=0))\n",
    "print(\"Total number of samples : \", v_array.shape[0])"
   ]
  },
  {
   "cell_type": "code",
   "execution_count": 7,
   "metadata": {},
   "outputs": [
    {
     "name": "stdout",
     "output_type": "stream",
     "text": [
      "Experiment will take a total time of:\n",
      "1 hours\n",
      "16 minutes\n"
     ]
    }
   ],
   "source": [
    "direction_array = CD.create_directions(v_array, t_array, o_array)\n",
    "exp = OT2D.experiment()\n",
    "total_time = exp.calculate_exp_duration(direction_array, action_time = 60)"
   ]
  },
  {
   "cell_type": "code",
   "execution_count": 8,
   "metadata": {},
   "outputs": [],
   "source": [
    "# save direction array\n",
    "np.save('./opentrons/directions_%d.npy'%ITERATION, direction_array)"
   ]
  },
  {
   "cell_type": "code",
   "execution_count": null,
   "metadata": {},
   "outputs": [],
   "source": []
  }
 ],
 "metadata": {
  "kernelspec": {
   "display_name": "OT2",
   "language": "python",
   "name": "python3"
  },
  "language_info": {
   "codemirror_mode": {
    "name": "ipython",
    "version": 3
   },
   "file_extension": ".py",
   "mimetype": "text/x-python",
   "name": "python",
   "nbconvert_exporter": "python",
   "pygments_lexer": "ipython3",
   "version": "3.10.0"
  }
 },
 "nbformat": 4,
 "nbformat_minor": 2
}
